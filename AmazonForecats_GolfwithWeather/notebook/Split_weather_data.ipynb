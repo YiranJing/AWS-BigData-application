{
 "cells": [
  {
   "cell_type": "code",
   "execution_count": 2,
   "metadata": {},
   "outputs": [],
   "source": [
    "import boto3\n",
    "import pandas as pd\n",
    "import pyspark\n",
    "from sagemaker import get_execution_role\n",
    "import seaborn as sns\n",
    "import numpy as np\n",
    "import calendar\n",
    "import matplotlib\n",
    "import matplotlib.pyplot as plt\n",
    "import warnings\n",
    "warnings.filterwarnings('ignore')\n",
    "from scipy.stats import norm, skew\n",
    "import statsmodels.api as sm\n",
    "blue = sns.color_palette('Blues')[-2]\n",
    "color = sns.color_palette() \n",
    "sns.set_style('darkgrid') \n",
    "pd.set_option('display.float_format', lambda x: '{:.3f}'.format(x)) #Limiting floats output to 3 decimal points\n",
    "import nltk\n",
    "from sklearn.model_selection import RandomizedSearchCV, GridSearchCV, StratifiedKFold\n",
    "import statsmodels.api as sm\n",
    "import statsmodels.formula.api as smf\n",
    "import datetime\n"
   ]
  },
  {
   "cell_type": "code",
   "execution_count": 3,
   "metadata": {},
   "outputs": [],
   "source": [
    "weather_data = 's3://taysolsdev/datasets/GolfDataforecast/weatherdata.csv'\n",
    "weather_data = pd.read_csv(weather_data, encoding = \"ISO-8859-1\")"
   ]
  },
  {
   "cell_type": "code",
   "execution_count": 4,
   "metadata": {},
   "outputs": [],
   "source": [
    "weather_data = weather_data.rename(str.lower, axis='columns')"
   ]
  },
  {
   "cell_type": "code",
   "execution_count": 5,
   "metadata": {},
   "outputs": [
    {
     "data": {
      "text/plain": [
       "Index(['region', 'month', 'high', 'low', 'rainfall', 'snowfall',\n",
       "       'daylight_hours'],\n",
       "      dtype='object')"
      ]
     },
     "execution_count": 5,
     "metadata": {},
     "output_type": "execute_result"
    }
   ],
   "source": [
    "weather_data = weather_data.rename(index=str, columns={\"high \": \"high\"})\n",
    "weather_data = weather_data.rename(index=str, columns={\"daylight hours\": \"daylight_hours\"})\n",
    "weather_data.columns"
   ]
  },
  {
   "cell_type": "code",
   "execution_count": 6,
   "metadata": {},
   "outputs": [
    {
     "data": {
      "text/plain": [
       "region            0\n",
       "month             0\n",
       "high              0\n",
       "low               0\n",
       "rainfall          0\n",
       "snowfall          0\n",
       "daylight_hours    0\n",
       "dtype: int64"
      ]
     },
     "execution_count": 6,
     "metadata": {},
     "output_type": "execute_result"
    }
   ],
   "source": [
    "# no missing value\n",
    "weather_data.isnull().sum()"
   ]
  },
  {
   "cell_type": "code",
   "execution_count": 7,
   "metadata": {},
   "outputs": [],
   "source": [
    "weather_data['month'] = weather_data['month'].str.replace('M10', '10')\n",
    "weather_data['month'] = weather_data['month'].str.replace('M11', '11')\n",
    "weather_data['month'] = weather_data['month'].str.replace('M12', '12')\n",
    "weather_data['month'] = weather_data['month'].str.replace('M1', '01')\n",
    "weather_data['month'] = weather_data['month'].str.replace('M2', '02')\n",
    "weather_data['month'] = weather_data['month'].str.replace('M3', '03')\n",
    "weather_data['month'] = weather_data['month'].str.replace('M4', '04')\n",
    "weather_data['month'] = weather_data['month'].str.replace('M5', '05')\n",
    "weather_data['month'] = weather_data['month'].str.replace('M6', '06')\n",
    "weather_data['month'] = weather_data['month'].str.replace('M7', '07')\n",
    "weather_data['month'] = weather_data['month'].str.replace('M8', '08')\n",
    "weather_data['month'] = weather_data['month'].str.replace('M9', '09')"
   ]
  },
  {
   "cell_type": "code",
   "execution_count": 8,
   "metadata": {},
   "outputs": [],
   "source": [
    "weather_data[\"month\"][:len(weather_data)] =  pd.to_datetime(weather_data.month[:len(weather_data)], \n",
    "                                                          yearfirst = True, format='%Y%m')\n",
    "\n",
    "weather_data = weather_data.sort_values(by=\"month\")\n",
    "# set month to index\n",
    "weather_data.index = pd.DatetimeIndex(weather_data.month)\n",
    "del weather_data[\"month\"]"
   ]
  },
  {
   "cell_type": "code",
   "execution_count": 9,
   "metadata": {},
   "outputs": [
    {
     "data": {
      "text/plain": [
       "array(['Midwest', 'Illinois', 'Canada', 'Northeast', 'South Carolina',\n",
       "       'Oregon', 'Connecticut', 'Other Southeast', 'New Mexico',\n",
       "       'Georgia', 'Australia', 'Arizona', 'Other Northeast', 'New York',\n",
       "       'Other Midwest', 'Mexico', 'Ohio', 'South Korea',\n",
       "       'Other Southwest', 'Japan', 'California', 'Texas', 'New Jersey',\n",
       "       'Southeast', 'Florida', 'Michigan', 'Nevada', 'Southwest'],\n",
       "      dtype=object)"
      ]
     },
     "execution_count": 9,
     "metadata": {},
     "output_type": "execute_result"
    }
   ],
   "source": [
    "weather_data['region'].unique()"
   ]
  },
  {
   "cell_type": "markdown",
   "metadata": {},
   "source": [
    "### check stationary or not\n"
   ]
  },
  {
   "cell_type": "code",
   "execution_count": 10,
   "metadata": {},
   "outputs": [
    {
     "name": "stdout",
     "output_type": "stream",
     "text": [
      "15 regions have non-stationary data for high\n",
      "17 regions have non-stationary data for low\n",
      "22 regions have non-stationary data for rainfall\n",
      "26 regions have non-stationary data for snowfall\n",
      "27 regions have non-stationary data for daylight_hours\n"
     ]
    }
   ],
   "source": [
    "from statsmodels.tsa.stattools import adfuller\n",
    "\n",
    "products = weather_data.region.unique()\n",
    "products_stationary = {} # collect stationary data: key is the name or product, value is p_value\n",
    "products_nonstationary = {} # collect non-stationary data \n",
    "\n",
    "\n",
    "\"\"\"\n",
    "Run ADF test on each product and check test.\n",
    "\"\"\"\n",
    "for feature in weather_data.columns[1:]:\n",
    "    for prod in products:\n",
    "        prod_df = weather_data[weather_data.region == prod]\n",
    "        p_value = adfuller(prod_df[feature])[1]\n",
    "        if p_value <0.01:  # we do at the 1% comcident level.\n",
    "            products_stationary[prod] = p_value\n",
    "        else:\n",
    "            products_nonstationary[prod] = p_value \n",
    "    \n",
    "    print(\"{} regions have non-stationary data for {}\".format(len(products_nonstationary), feature))\n",
    "    \n",
    "    "
   ]
  },
  {
   "cell_type": "code",
   "execution_count": null,
   "metadata": {},
   "outputs": [],
   "source": []
  },
  {
   "cell_type": "code",
   "execution_count": null,
   "metadata": {},
   "outputs": [],
   "source": []
  },
  {
   "cell_type": "code",
   "execution_count": null,
   "metadata": {},
   "outputs": [],
   "source": []
  },
  {
   "cell_type": "code",
   "execution_count": null,
   "metadata": {},
   "outputs": [],
   "source": []
  },
  {
   "cell_type": "code",
   "execution_count": null,
   "metadata": {},
   "outputs": [],
   "source": []
  },
  {
   "cell_type": "markdown",
   "metadata": {},
   "source": [
    "### New dataset "
   ]
  },
  {
   "cell_type": "code",
   "execution_count": 11,
   "metadata": {},
   "outputs": [],
   "source": [
    "origin_high = weather_data[[\"high\",'region']]\n",
    "origin_high['month'] = origin_high.index\n",
    "origin_high=origin_high[['month',\"high\",'region']]\n",
    "origin_high.to_csv('nonstationary_high.csv', header=False, index=False)"
   ]
  },
  {
   "cell_type": "code",
   "execution_count": 12,
   "metadata": {},
   "outputs": [],
   "source": [
    "origin_low = weather_data[[\"low\",'region']]\n",
    "origin_low['month'] = origin_low.index\n",
    "origin_low=origin_low[['month',\"low\",'region']]\n",
    "origin_low.to_csv('nonstationary_low.csv', header=False, index=False)\n"
   ]
  },
  {
   "cell_type": "code",
   "execution_count": 13,
   "metadata": {},
   "outputs": [],
   "source": [
    "\n",
    "origin_rainfall = weather_data[[\"rainfall\",'region']]\n",
    "origin_rainfall['month'] = origin_rainfall.index\n",
    "origin_rainfall=origin_rainfall[['month',\"rainfall\",'region']]\n",
    "origin_rainfall.to_csv('nonstationary_rainfall.csv', header=False, index=False)\n"
   ]
  },
  {
   "cell_type": "code",
   "execution_count": 14,
   "metadata": {},
   "outputs": [],
   "source": [
    "\n",
    "origin_snowfall = weather_data[[\"snowfall\",'region']]\n",
    "origin_snowfall['month'] = origin_snowfall.index\n",
    "origin_snowfall=origin_snowfall[['month',\"snowfall\",'region']]\n",
    "origin_snowfall.to_csv('nonstationary_snowfall.csv', header=False, index=False)\n"
   ]
  },
  {
   "cell_type": "code",
   "execution_count": 15,
   "metadata": {},
   "outputs": [],
   "source": [
    "\n",
    "origin_daylight_hours = weather_data[[\"daylight_hours\",'region']]\n",
    "origin_daylight_hours['month'] = origin_daylight_hours.index\n",
    "origin_daylight_hours=origin_daylight_hours[['month',\"daylight_hours\",'region']]\n",
    "origin_daylight_hours.to_csv('nonstationary_daylight_hours.csv', header=False, index=False)\n"
   ]
  },
  {
   "cell_type": "code",
   "execution_count": 17,
   "metadata": {},
   "outputs": [],
   "source": [
    "origin_all = weather_data[[\"high\",\"low\",\"rainfall\",\"snowfall\",\"daylight_hours\",'region']]\n",
    "origin_all['month'] = origin_high.index\n",
    "origin_all=origin_all[['month',\"high\",\"low\",\"rainfall\",\"snowfall\",\"daylight_hours\",'region']]\n",
    "origin_all.to_csv('nonstationary_all.csv', header=False, index=False)"
   ]
  },
  {
   "cell_type": "code",
   "execution_count": null,
   "metadata": {},
   "outputs": [],
   "source": []
  },
  {
   "cell_type": "code",
   "execution_count": null,
   "metadata": {},
   "outputs": [],
   "source": []
  }
 ],
 "metadata": {
  "kernelspec": {
   "display_name": "conda_python3",
   "language": "python",
   "name": "conda_python3"
  },
  "language_info": {
   "codemirror_mode": {
    "name": "ipython",
    "version": 3
   },
   "file_extension": ".py",
   "mimetype": "text/x-python",
   "name": "python",
   "nbconvert_exporter": "python",
   "pygments_lexer": "ipython3",
   "version": "3.6.5"
  }
 },
 "nbformat": 4,
 "nbformat_minor": 2
}
