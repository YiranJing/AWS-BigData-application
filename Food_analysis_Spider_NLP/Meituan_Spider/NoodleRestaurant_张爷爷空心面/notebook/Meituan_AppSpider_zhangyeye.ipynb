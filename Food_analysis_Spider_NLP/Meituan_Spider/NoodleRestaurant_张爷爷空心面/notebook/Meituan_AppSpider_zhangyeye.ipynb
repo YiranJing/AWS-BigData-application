{
 "cells": [
  {
   "cell_type": "markdown",
   "metadata": {},
   "source": [
    "# Meituan AppSpider\n",
    "- Author: Yiran Jing\n",
    "\n",
    "Build Meituan AppSpider to collect customer comments of 'Macaroni of Zhang grandpa' chain restaurants\n",
    "\n",
    "Scraping content:\n",
    "1. Store location（店铺地址）\n",
    "2. Score of store （店铺评分）\n",
    "3. Consumption per person （人均消费）\n",
    "4. Business Hours （营业时间）\n",
    "5. Customer comments (网友点评)\n",
    "6. Recommended dishes (推荐菜)\n",
    "\n",
    "\n",
    "Reference: \n",
    "\n",
    "1. https://github.com/hahaha108/meituanAppSpider\n",
    "2. https://blog.csdn.net/slphahaha/article/details/81145404\n"
   ]
  },
  {
   "cell_type": "code",
   "execution_count": 1,
   "metadata": {},
   "outputs": [],
   "source": [
    "import requests\n",
    "import json\n",
    "from lxml import etree\n",
    "import pandas as pd\n",
    "import re\n",
    "import math\n",
    "import urllib\n",
    "import urllib.request as urllib2\n",
    "import xlsxwriter\n",
    "from bs4 import BeautifulSoup\n",
    "import warnings\n",
    "warnings.filterwarnings('ignore')\n",
    "\n",
    "import scrapy\n",
    "from scrapy.crawler import CrawlerProcess\n",
    "from scrapy.utils.project import get_project_settings\n",
    "import csv"
   ]
  },
  {
   "cell_type": "markdown",
   "metadata": {},
   "source": [
    "### ShenZhen Area\n",
    "- 目前美团有两个店铺，但是暂时都无评论"
   ]
  },
  {
   "cell_type": "markdown",
   "metadata": {},
   "source": [
    "### Shanghai Area\n",
    "\n",
    "- 爬取上海地区张爷爷空心面的美团信息\n",
    "- 上海地区有五个连锁店铺,但目前只有两个店铺有用户评价，所以暂时只抓了两个店铺"
   ]
  },
  {
   "cell_type": "code",
   "execution_count": 2,
   "metadata": {},
   "outputs": [
    {
     "name": "stdout",
     "output_type": "stream",
     "text": [
      "Spider is ready for shanghai area\n"
     ]
    }
   ],
   "source": [
    "from spider_develop_shanghai import MeituanSpider_shanghai\n",
    "\n",
    "# save_mode ：txt存储为txt文件，csv存储为csv文件，无输入默认为csv\n",
    "spider_shanghai = MeituanSpider_shanghai()\n",
    "taglist_1, commentslist_1 = spider_shanghai.run(1000) # max read 10 pages, 10 comments in each page"
   ]
  },
  {
   "cell_type": "code",
   "execution_count": null,
   "metadata": {},
   "outputs": [],
   "source": []
  },
  {
   "cell_type": "markdown",
   "metadata": {},
   "source": [
    "### Nanjing Area\n",
    "- 目前美团有两个店铺\n",
    "- 只有一个店铺有一则评论, 暂不抓取"
   ]
  },
  {
   "cell_type": "markdown",
   "metadata": {},
   "source": [
    "### TaiYuan Area\n",
    "- 目前美团有一家店铺：（茂业中心店）"
   ]
  },
  {
   "cell_type": "code",
   "execution_count": 3,
   "metadata": {},
   "outputs": [
    {
     "name": "stdout",
     "output_type": "stream",
     "text": [
      "Spider is ready for Taiyuan area\n"
     ]
    }
   ],
   "source": [
    "from spider_develop_taiyuan import MeituanSpider_taiyuan\n",
    "\n",
    "# save_mode ：txt存储为txt文件，csv存储为csv文件，无输入默认为csv\n",
    "spider_taiyuan = MeituanSpider_taiyuan()\n",
    "taglist_2, commentslist_2 = spider_taiyuan.run(1000)"
   ]
  },
  {
   "cell_type": "markdown",
   "metadata": {},
   "source": [
    "### TaiCang area\n",
    "- 目前美团有一家店铺："
   ]
  },
  {
   "cell_type": "code",
   "execution_count": 4,
   "metadata": {},
   "outputs": [
    {
     "name": "stdout",
     "output_type": "stream",
     "text": [
      "Spider is ready for Taicang area\n"
     ]
    }
   ],
   "source": [
    "\n",
    "from spider_develop_taicang import MeituanSpider_taicang\n",
    "\n",
    "# save_mode ：txt存储为txt文件，csv存储为csv文件，无输入默认为csv\n",
    "spider_taicang = MeituanSpider_taicang()\n",
    "taglist_3, commentslist_3 = spider_taicang.run(1000)"
   ]
  },
  {
   "cell_type": "markdown",
   "metadata": {},
   "source": [
    "## Save result to csv"
   ]
  },
  {
   "cell_type": "code",
   "execution_count": 5,
   "metadata": {},
   "outputs": [],
   "source": [
    "taglist = taglist_1 + taglist_2 + taglist_3\n",
    "commentslist = commentslist_1 + commentslist_2 + commentslist_3"
   ]
  },
  {
   "cell_type": "code",
   "execution_count": 6,
   "metadata": {},
   "outputs": [],
   "source": [
    "def Write_to_csv(fieldKey, file_name,datalist):\n",
    "    with open(file_name, 'w') as csvfile:\n",
    "        writer = csv.DictWriter(csvfile, fieldnames= fieldKey)\n",
    "        writer.writeheader()\n",
    "        for data in datalist:\n",
    "            writer.writerow(data)"
   ]
  },
  {
   "cell_type": "code",
   "execution_count": 7,
   "metadata": {},
   "outputs": [],
   "source": [
    "## Write user comments detail to csv\n",
    "fieldkey = ['店名',\"用户名\", '平均消费','星级','菜单','评价时间','用餐结束时间','评价']\n",
    "file_name = 'meituanZhangYeyeInfos/Zhangyeye_Comments_ShangHai.csv'\n",
    "Write_to_csv(fieldkey, file_name, commentslist)"
   ]
  },
  {
   "cell_type": "code",
   "execution_count": 8,
   "metadata": {},
   "outputs": [],
   "source": [
    "## Write tag retails to csv file\n",
    "fieldKey = ['标签','累计数量']\n",
    "file_name = \"meituanZhangYeyeInfos/Zhangyeye_Tags_shanghai.csv\"\n",
    "Write_to_csv(fieldKey, file_name, taglist)"
   ]
  },
  {
   "cell_type": "code",
   "execution_count": 9,
   "metadata": {},
   "outputs": [],
   "source": [
    "df  = pd.read_csv(\"meituanZhangYeyeInfos/Zhangyeye_Tags_shanghai.csv\")\n",
    "## merge counts if they have same tags \n",
    "aggregation_functions = {'标签': 'first','累计数量': 'sum'}\n",
    "df_new = df.groupby(df['标签']).aggregate(aggregation_functions)\n",
    "df_new.to_csv('meituanZhangYeyeInfos/Zhangyeye_Tags_shanghai.csv',index=False)"
   ]
  },
  {
   "cell_type": "code",
   "execution_count": 10,
   "metadata": {},
   "outputs": [
    {
     "data": {
      "text/html": [
       "<div>\n",
       "<style scoped>\n",
       "    .dataframe tbody tr th:only-of-type {\n",
       "        vertical-align: middle;\n",
       "    }\n",
       "\n",
       "    .dataframe tbody tr th {\n",
       "        vertical-align: top;\n",
       "    }\n",
       "\n",
       "    .dataframe thead th {\n",
       "        text-align: right;\n",
       "    }\n",
       "</style>\n",
       "<table border=\"1\" class=\"dataframe\">\n",
       "  <thead>\n",
       "    <tr style=\"text-align: right;\">\n",
       "      <th></th>\n",
       "      <th>标签</th>\n",
       "      <th>累计数量</th>\n",
       "    </tr>\n",
       "  </thead>\n",
       "  <tbody>\n",
       "    <tr>\n",
       "      <th>0</th>\n",
       "      <td>上菜快</td>\n",
       "      <td>7</td>\n",
       "    </tr>\n",
       "    <tr>\n",
       "      <th>1</th>\n",
       "      <td>价格实惠</td>\n",
       "      <td>9</td>\n",
       "    </tr>\n",
       "    <tr>\n",
       "      <th>2</th>\n",
       "      <td>体验很棒</td>\n",
       "      <td>4</td>\n",
       "    </tr>\n",
       "    <tr>\n",
       "      <th>3</th>\n",
       "      <td>分量足</td>\n",
       "      <td>12</td>\n",
       "    </tr>\n",
       "    <tr>\n",
       "      <th>4</th>\n",
       "      <td>午餐</td>\n",
       "      <td>8</td>\n",
       "    </tr>\n",
       "  </tbody>\n",
       "</table>\n",
       "</div>"
      ],
      "text/plain": [
       "     标签  累计数量\n",
       "0   上菜快     7\n",
       "1  价格实惠     9\n",
       "2  体验很棒     4\n",
       "3   分量足    12\n",
       "4    午餐     8"
      ]
     },
     "execution_count": 10,
     "metadata": {},
     "output_type": "execute_result"
    }
   ],
   "source": [
    "tags_info  = pd.read_csv(\"meituanZhangYeyeInfos/Zhangyeye_Tags_shanghai.csv\")\n",
    "tags_info.head()"
   ]
  },
  {
   "cell_type": "raw",
   "metadata": {},
   "source": [
    "! pip install wordcloud"
   ]
  },
  {
   "cell_type": "markdown",
   "metadata": {},
   "source": [
    "## Create Wordcloud with Chinese\n",
    "\n",
    "### Tags "
   ]
  },
  {
   "cell_type": "raw",
   "metadata": {},
   "source": [
    "! pip install jieba"
   ]
  },
  {
   "cell_type": "code",
   "execution_count": 11,
   "metadata": {},
   "outputs": [
    {
     "name": "stderr",
     "output_type": "stream",
     "text": [
      "Building prefix dict from the default dictionary ...\n",
      "Loading model from cache /var/folders/1l/pfc4n6891k7350ty2zvn2mx40000gn/T/jieba.cache\n",
      "Loading model cost 0.745 seconds.\n",
      "Prefix dict has been built succesfully.\n"
     ]
    }
   ],
   "source": [
    "import jieba # to support chinese\n",
    "jieba.enable_parallel(4)"
   ]
  },
  {
   "cell_type": "code",
   "execution_count": 12,
   "metadata": {},
   "outputs": [],
   "source": [
    "bag = tags_info"
   ]
  },
  {
   "cell_type": "code",
   "execution_count": 13,
   "metadata": {},
   "outputs": [
    {
     "data": {
      "text/html": [
       "<div>\n",
       "<style scoped>\n",
       "    .dataframe tbody tr th:only-of-type {\n",
       "        vertical-align: middle;\n",
       "    }\n",
       "\n",
       "    .dataframe tbody tr th {\n",
       "        vertical-align: top;\n",
       "    }\n",
       "\n",
       "    .dataframe thead th {\n",
       "        text-align: right;\n",
       "    }\n",
       "</style>\n",
       "<table border=\"1\" class=\"dataframe\">\n",
       "  <thead>\n",
       "    <tr style=\"text-align: right;\">\n",
       "      <th></th>\n",
       "      <th>标签</th>\n",
       "      <th>累计数量</th>\n",
       "    </tr>\n",
       "  </thead>\n",
       "  <tbody>\n",
       "    <tr>\n",
       "      <th>0</th>\n",
       "      <td>上菜快</td>\n",
       "      <td>7</td>\n",
       "    </tr>\n",
       "    <tr>\n",
       "      <th>1</th>\n",
       "      <td>价格实惠</td>\n",
       "      <td>9</td>\n",
       "    </tr>\n",
       "    <tr>\n",
       "      <th>2</th>\n",
       "      <td>体验很棒</td>\n",
       "      <td>4</td>\n",
       "    </tr>\n",
       "    <tr>\n",
       "      <th>3</th>\n",
       "      <td>分量足</td>\n",
       "      <td>12</td>\n",
       "    </tr>\n",
       "    <tr>\n",
       "      <th>4</th>\n",
       "      <td>午餐</td>\n",
       "      <td>8</td>\n",
       "    </tr>\n",
       "    <tr>\n",
       "      <th>5</th>\n",
       "      <td>味道赞</td>\n",
       "      <td>32</td>\n",
       "    </tr>\n",
       "    <tr>\n",
       "      <th>6</th>\n",
       "      <td>回头客</td>\n",
       "      <td>3</td>\n",
       "    </tr>\n",
       "    <tr>\n",
       "      <th>7</th>\n",
       "      <td>干净整洁</td>\n",
       "      <td>5</td>\n",
       "    </tr>\n",
       "    <tr>\n",
       "      <th>8</th>\n",
       "      <td>性价比高</td>\n",
       "      <td>13</td>\n",
       "    </tr>\n",
       "    <tr>\n",
       "      <th>9</th>\n",
       "      <td>拔草</td>\n",
       "      <td>3</td>\n",
       "    </tr>\n",
       "    <tr>\n",
       "      <th>10</th>\n",
       "      <td>服务热情</td>\n",
       "      <td>9</td>\n",
       "    </tr>\n",
       "    <tr>\n",
       "      <th>11</th>\n",
       "      <td>环境优雅</td>\n",
       "      <td>3</td>\n",
       "    </tr>\n",
       "    <tr>\n",
       "      <th>12</th>\n",
       "      <td>菜品不错</td>\n",
       "      <td>4</td>\n",
       "    </tr>\n",
       "  </tbody>\n",
       "</table>\n",
       "</div>"
      ],
      "text/plain": [
       "      标签  累计数量\n",
       "0    上菜快     7\n",
       "1   价格实惠     9\n",
       "2   体验很棒     4\n",
       "3    分量足    12\n",
       "4     午餐     8\n",
       "5    味道赞    32\n",
       "6    回头客     3\n",
       "7   干净整洁     5\n",
       "8   性价比高    13\n",
       "9     拔草     3\n",
       "10  服务热情     9\n",
       "11  环境优雅     3\n",
       "12  菜品不错     4"
      ]
     },
     "execution_count": 13,
     "metadata": {},
     "output_type": "execute_result"
    }
   ],
   "source": [
    "bag"
   ]
  },
  {
   "cell_type": "code",
   "execution_count": 14,
   "metadata": {},
   "outputs": [],
   "source": [
    "file = open(\"meituanZhangYeyeInfos/tags.txt\",\"w\")\n",
    "for index,row in tags_info.iterrows():\n",
    "    for i in range(row['累计数量']): \n",
    "        file.write(row['标签'])\n",
    "        file.write(\" \")\n",
    "file.close() \n"
   ]
  },
  {
   "cell_type": "code",
   "execution_count": 15,
   "metadata": {},
   "outputs": [],
   "source": [
    "text = open('meituanZhangYeyeInfos/tags.txt', 'r',encoding= 'UTF-8-sig').read()\n",
    "#text"
   ]
  },
  {
   "cell_type": "code",
   "execution_count": 16,
   "metadata": {},
   "outputs": [],
   "source": [
    "text = ' '.join(jieba.cut(text))"
   ]
  },
  {
   "cell_type": "code",
   "execution_count": 17,
   "metadata": {},
   "outputs": [],
   "source": [
    "from PIL import Image\n",
    "import numpy as np\n",
    "icon_path = 'fonts/heart.png'\n",
    "icon = Image.open(icon_path)\n",
    "mask = Image.new(\"RGB\", icon.size, (255,255,255))\n",
    "mask.paste(icon,icon)\n",
    "mask = np.array(mask)"
   ]
  },
  {
   "cell_type": "code",
   "execution_count": 18,
   "metadata": {},
   "outputs": [
    {
     "data": {
      "text/plain": [
       "<Figure size 1200x1200 with 1 Axes>"
      ]
     },
     "metadata": {},
     "output_type": "display_data"
    }
   ],
   "source": [
    "import jieba\n",
    "from scipy.misc import imread\n",
    "\n",
    "def color_func(word, font_size, position, orientation, random_state=None, **kwargs):\n",
    "    return tuple([255,255,255]) # RGB code of white color\n",
    "\n",
    "from wordcloud import ImageColorGenerator\n",
    "color_func = ImageColorGenerator(mask)\n",
    "\n",
    "\n",
    "# indicate the font path that can display Chinese\n",
    "font_filename = 'fonts/STFangSong.ttf'\n",
    "\n",
    "from wordcloud import WordCloud\n",
    "import matplotlib.pyplot as plt\n",
    "\n",
    "wc = WordCloud(font_path=font_filename, background_color=\"white\", max_words=2000, mask = mask, max_font_size=300, random_state=1)\n",
    "wc.generate_from_text(text)\n",
    "wc.recolor(color_func=color_func, random_state=2)\n",
    "# save as png\n",
    "output_path = 'wordcloud.png'\n",
    "wc.to_file(output_path)\n",
    "# display the word cloud\n",
    "plt.rcParams[\"figure.figsize\"] = (12,12)\n",
    "plt.imshow(wc)\n",
    "plt.axis(\"off\")\n",
    "plt.show()"
   ]
  },
  {
   "cell_type": "markdown",
   "metadata": {},
   "source": [
    "### Most popular Menu\n",
    "Analysis the most popular dishes"
   ]
  },
  {
   "cell_type": "code",
   "execution_count": 19,
   "metadata": {},
   "outputs": [
    {
     "data": {
      "text/html": [
       "<div>\n",
       "<style scoped>\n",
       "    .dataframe tbody tr th:only-of-type {\n",
       "        vertical-align: middle;\n",
       "    }\n",
       "\n",
       "    .dataframe tbody tr th {\n",
       "        vertical-align: top;\n",
       "    }\n",
       "\n",
       "    .dataframe thead th {\n",
       "        text-align: right;\n",
       "    }\n",
       "</style>\n",
       "<table border=\"1\" class=\"dataframe\">\n",
       "  <thead>\n",
       "    <tr style=\"text-align: right;\">\n",
       "      <th></th>\n",
       "      <th>店名</th>\n",
       "      <th>用户名</th>\n",
       "      <th>平均消费</th>\n",
       "      <th>星级</th>\n",
       "      <th>菜单</th>\n",
       "      <th>评价时间</th>\n",
       "      <th>用餐结束时间</th>\n",
       "      <th>评价</th>\n",
       "    </tr>\n",
       "  </thead>\n",
       "  <tbody>\n",
       "    <tr>\n",
       "      <th>0</th>\n",
       "      <td>上海世纪汇店铺</td>\n",
       "      <td>不凡帝范梅勒丶</td>\n",
       "      <td>30</td>\n",
       "      <td>50</td>\n",
       "      <td>番茄牛腩空心面1份</td>\n",
       "      <td>1550841341134</td>\n",
       "      <td>1.552654e+09</td>\n",
       "      <td>上过舌尖的空心面果然名不虚传！味道口感一级棒！而且用团购足足可以省下8块1毛钱。番茄牛腩味道...</td>\n",
       "    </tr>\n",
       "    <tr>\n",
       "      <th>1</th>\n",
       "      <td>上海世纪汇店铺</td>\n",
       "      <td>girlman敏</td>\n",
       "      <td>30</td>\n",
       "      <td>40</td>\n",
       "      <td>番茄牛腩空心面1份</td>\n",
       "      <td>1546077431869</td>\n",
       "      <td>1.552654e+09</td>\n",
       "      <td>在1992弄里面的超级有老上海的感觉，跟朋友一起在那个底下吃了些小零食啥的 这个面门口写的舌...</td>\n",
       "    </tr>\n",
       "    <tr>\n",
       "      <th>2</th>\n",
       "      <td>上海世纪汇店铺</td>\n",
       "      <td>jYM629694080</td>\n",
       "      <td>30</td>\n",
       "      <td>50</td>\n",
       "      <td>番茄牛腩空心面1份</td>\n",
       "      <td>1541086875863</td>\n",
       "      <td>1.552654e+09</td>\n",
       "      <td>“1192弄老上海风情街”位于浦东世纪大道地铁站的世纪汇广场内，这里现在已成了上海的网红地，...</td>\n",
       "    </tr>\n",
       "    <tr>\n",
       "      <th>3</th>\n",
       "      <td>上海世纪汇店铺</td>\n",
       "      <td>SZD486724107</td>\n",
       "      <td>30</td>\n",
       "      <td>50</td>\n",
       "      <td>NaN</td>\n",
       "      <td>1556537967473</td>\n",
       "      <td>NaN</td>\n",
       "      <td>味道蛮正，下次再来</td>\n",
       "    </tr>\n",
       "    <tr>\n",
       "      <th>4</th>\n",
       "      <td>上海世纪汇店铺</td>\n",
       "      <td>vwi406732198</td>\n",
       "      <td>30</td>\n",
       "      <td>50</td>\n",
       "      <td>NaN</td>\n",
       "      <td>1554891584937</td>\n",
       "      <td>NaN</td>\n",
       "      <td>味道不错</td>\n",
       "    </tr>\n",
       "  </tbody>\n",
       "</table>\n",
       "</div>"
      ],
      "text/plain": [
       "        店名           用户名  平均消费  星级         菜单           评价时间        用餐结束时间  \\\n",
       "0  上海世纪汇店铺       不凡帝范梅勒丶    30  50  番茄牛腩空心面1份  1550841341134  1.552654e+09   \n",
       "1  上海世纪汇店铺      girlman敏    30  40  番茄牛腩空心面1份  1546077431869  1.552654e+09   \n",
       "2  上海世纪汇店铺  jYM629694080    30  50  番茄牛腩空心面1份  1541086875863  1.552654e+09   \n",
       "3  上海世纪汇店铺  SZD486724107    30  50        NaN  1556537967473           NaN   \n",
       "4  上海世纪汇店铺  vwi406732198    30  50        NaN  1554891584937           NaN   \n",
       "\n",
       "                                                  评价  \n",
       "0  上过舌尖的空心面果然名不虚传！味道口感一级棒！而且用团购足足可以省下8块1毛钱。番茄牛腩味道...  \n",
       "1  在1992弄里面的超级有老上海的感觉，跟朋友一起在那个底下吃了些小零食啥的 这个面门口写的舌...  \n",
       "2  “1192弄老上海风情街”位于浦东世纪大道地铁站的世纪汇广场内，这里现在已成了上海的网红地，...  \n",
       "3                                          味道蛮正，下次再来  \n",
       "4                                               味道不错  "
      ]
     },
     "execution_count": 19,
     "metadata": {},
     "output_type": "execute_result"
    }
   ],
   "source": [
    "#commentslist\n",
    "comments  = pd.read_csv(\"meituanZhangYeyeInfos/Zhangyeye_Comments_ShangHai.csv\")\n",
    "comments.head()"
   ]
  },
  {
   "cell_type": "code",
   "execution_count": 20,
   "metadata": {},
   "outputs": [],
   "source": [
    "## fill missing value\n",
    "comments['菜单'] = comments['菜单'].fillna('缺失') \n",
    "comments['星级'] = comments['星级'].fillna('missing') \n",
    "comments['平均消费'] = comments['平均消费'].fillna('missing') "
   ]
  },
  {
   "cell_type": "code",
   "execution_count": 21,
   "metadata": {},
   "outputs": [
    {
     "data": {
      "text/plain": [
       "缺失                  13\n",
       "全部菜品2选1，提供免费WiFi    10\n",
       "番茄牛腩空心面1份            7\n",
       "单人套餐A，提供免费WiFi       7\n",
       "30元代金券1张，可叠加         2\n",
       "Name: 菜单, dtype: int64"
      ]
     },
     "execution_count": 21,
     "metadata": {},
     "output_type": "execute_result"
    }
   ],
   "source": [
    "comments['菜单'].value_counts()"
   ]
  },
  {
   "cell_type": "code",
   "execution_count": 38,
   "metadata": {},
   "outputs": [
    {
     "data": {
      "text/plain": [
       "39"
      ]
     },
     "execution_count": 38,
     "metadata": {},
     "output_type": "execute_result"
    }
   ],
   "source": [
    "len(comments['菜单'])"
   ]
  },
  {
   "cell_type": "code",
   "execution_count": 45,
   "metadata": {},
   "outputs": [
    {
     "data": {
      "image/png": "[encoded data removed]",
      "text/plain": [
       "<Figure size 576x576 with 1 Axes>"
      ]
     },
     "metadata": {
      "needs_background": "dark"
     },
     "output_type": "display_data"
    }
   ],
   "source": [
    "import matplotlib\n",
    "import matplotlib.pyplot as plt\n",
    "from cycler import cycler\n",
    "\n",
    "# 调整package可以显示中文\n",
    "chinesefont = matplotlib.font_manager.FontProperties(fname='fonts/STFangSong.ttf')\n",
    "\n",
    "\n",
    "fig,ax = plt.subplots()\n",
    "tick_labels = ['1', '2', '3', ' 4', '5']\n",
    "plt.rcParams[\"figure.figsize\"] = (8,8)\n",
    "plt.bar(range(5), comments['菜单'].value_counts()*100/len(comments['菜单']),\n",
    "       tick_label=tick_labels, align='center'\n",
    "       )\n",
    "fig.suptitle(u'受欢迎菜单', fontproperties=chinesefont, fontsize=18)\n",
    "plt.xlabel(u'菜单',fontproperties=chinesefont,fontsize=18)  \n",
    "plt.ylabel(u'占比（%）',fontproperties=chinesefont,fontsize=16)  \n",
    "plt.show()   "
   ]
  },
  {
   "cell_type": "markdown",
   "metadata": {},
   "source": [
    "由于代码无法显示中文，我用数字表示\n",
    "1.  全部菜品2选1，提供免费WiFi\n",
    "2.  番茄牛腩空心面1份   \n",
    "3. 单人套餐A，提供免费WiFi\n",
    "4.   30元代金券1张，可叠加\n",
    "5. 数据缺失"
   ]
  },
  {
   "cell_type": "code",
   "execution_count": 47,
   "metadata": {},
   "outputs": [
    {
     "data": {
      "image/png": "[encoded data removed]",
      "text/plain": [
       "<Figure size 576x576 with 1 Axes>"
      ]
     },
     "metadata": {
      "needs_background": "dark"
     },
     "output_type": "display_data"
    }
   ],
   "source": [
    "\n",
    "fig,ax = plt.subplots()\n",
    "\n",
    "plt.rcParams[\"figure.figsize\"] = (8,8)\n",
    "plt.bar(comments['平均消费'].unique(),comments['平均消费'].value_counts()*100/len(comments['平均消费']))\n",
    "fig.suptitle(u'顾客平均消费', fontproperties=chinesefont, fontsize=18)\n",
    "plt.xlabel(u'平均消费（RMB）',fontproperties=chinesefont,fontsize=18)  \n",
    "plt.ylabel(u'百分比（%）',fontproperties=chinesefont,fontsize=16)  \n",
    "plt.show()   \n",
    "\n"
   ]
  },
  {
   "cell_type": "code",
   "execution_count": 53,
   "metadata": {},
   "outputs": [
    {
     "data": {
      "image/png": "[encoded data removed]",
      "text/plain": [
       "<Figure size 576x576 with 1 Axes>"
      ]
     },
     "metadata": {
      "needs_background": "dark"
     },
     "output_type": "display_data"
    }
   ],
   "source": [
    "fig,ax = plt.subplots()\n",
    "\n",
    "plt.rcParams[\"figure.figsize\"] = (8,8)\n",
    "plt.bar([\"5 star\",'4 star','3 star','2 star','1 star'],comments['星级'].value_counts()*100/len(comments['星级']))\n",
    "fig.suptitle(u'顾客星级评价总汇', fontproperties=chinesefont, fontsize=18)\n",
    "plt.xlabel(u'星级',fontproperties=chinesefont,fontsize=18)  \n",
    "plt.ylabel(u'百分比（%）',fontproperties=chinesefont,fontsize=16)  \n",
    "plt.show()   \n",
    "\n"
   ]
  },
  {
   "cell_type": "code",
   "execution_count": null,
   "metadata": {},
   "outputs": [],
   "source": []
  }
 ],
 "metadata": {
  "kernelspec": {
   "display_name": "Python 3",
   "language": "python",
   "name": "python3"
  },
  "language_info": {
   "codemirror_mode": {
    "name": "ipython",
    "version": 3
   },
   "file_extension": ".py",
   "mimetype": "text/x-python",
   "name": "python",
   "nbconvert_exporter": "python",
   "pygments_lexer": "ipython3",
   "version": "3.7.1"
  }
 },
 "nbformat": 4,
 "nbformat_minor": 2
}
