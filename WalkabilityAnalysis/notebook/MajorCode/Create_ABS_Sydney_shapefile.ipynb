{
 "cells": [
  {
   "cell_type": "code",
   "execution_count": 2,
   "metadata": {},
   "outputs": [],
   "source": [
    "import csv\n",
    "import shapefile\n",
    "# please put all the package used here\n",
    "from collections import Counter\n",
    "import pandas as pd\n",
    "import csv\n",
    "import pprint\n",
    "import numpy as np\n",
    "import warnings\n",
    "import requests\n",
    "import json\n",
    "warnings.filterwarnings('ignore')\n",
    "import psycopg2\n",
    "import psycopg2.extras\n",
    "import time\n",
    "import ast # convert string to dictionary\n",
    "\n",
    "\n",
    "\n",
    "\n"
   ]
  },
  {
   "cell_type": "code",
   "execution_count": 3,
   "metadata": {},
   "outputs": [],
   "source": [
    "def read_shapefile(shp_path):\n",
    "\t\"\"\"\n",
    "\tRead a shapefile into a Pandas dataframe with a 'coords' column holding\n",
    "\tthe geometry information. This uses the pyshp package\n",
    "\t\"\"\"\n",
    "\n",
    "\t#read file, parse out the records and shapes\n",
    "\tsf = shapefile.Reader(shp_path)\n",
    "\tfields = [x[0] for x in sf.fields][1:]\n",
    "\trecords = sf.records()\n",
    "\tshps = [s.points for s in sf.shapes()]\n",
    "\n",
    "\t#write into a dataframe\n",
    "\tdf = pd.DataFrame(columns=fields, data=records)\n",
    "\tdf = df.assign(coords=shps)\n",
    "\n",
    "\treturn df"
   ]
  },
  {
   "cell_type": "code",
   "execution_count": 4,
   "metadata": {},
   "outputs": [
    {
     "data": {
      "text/plain": [
       "2310"
      ]
     },
     "execution_count": 4,
     "metadata": {},
     "output_type": "execute_result"
    }
   ],
   "source": [
    "e = shapefile.Editor('SA2_2016_AUST.shp')\n",
    "shapes = e.shapes()\n",
    "len(shapes)"
   ]
  },
  {
   "cell_type": "code",
   "execution_count": 5,
   "metadata": {},
   "outputs": [],
   "source": [
    "count=576\n",
    "while count < 2310:\n",
    "    e.delete(576)\n",
    "    count +=1\n",
    "count=57\n",
    "while count < 294:\n",
    "    e.delete(57)\n",
    "    count +=1\n",
    "\n",
    "count=0\n",
    "while count<27:\n",
    "    e.delete(0)\n",
    "    count +=1"
   ]
  },
  {
   "cell_type": "code",
   "execution_count": 6,
   "metadata": {},
   "outputs": [],
   "source": [
    "e.save('Sydney2_2016_AUST.shp')"
   ]
  },
  {
   "cell_type": "code",
   "execution_count": 9,
   "metadata": {},
   "outputs": [
    {
     "data": {
      "text/plain": [
       "[('DeletionFlag', 'C', 1, 0),\n",
       " ['SA2_MAIN16', 'C', 9, 0],\n",
       " ['SA2_5DIG16', 'C', 20, 0],\n",
       " ['SA2_NAME16', 'C', 50, 0],\n",
       " ['SA3_CODE16', 'C', 5, 0],\n",
       " ['SA3_NAME16', 'C', 50, 0],\n",
       " ['SA4_CODE16', 'C', 3, 0],\n",
       " ['SA4_NAME16', 'C', 50, 0],\n",
       " ['GCC_CODE16', 'C', 5, 0],\n",
       " ['GCC_NAME16', 'C', 50, 0],\n",
       " ['STE_CODE16', 'C', 3, 0],\n",
       " ['STE_NAME16', 'C', 50, 0],\n",
       " ['AREASQKM16', 'N', 31, 15]]"
      ]
     },
     "execution_count": 9,
     "metadata": {},
     "output_type": "execute_result"
    }
   ],
   "source": [
    "sf = shapefile.Reader('Sydney2_2016_AUST.shp')\n",
    "sf.fields"
   ]
  },
  {
   "cell_type": "code",
   "execution_count": null,
   "metadata": {},
   "outputs": [],
   "source": [
    "sydney_only = read_shapefile('Sydney2_2016_AUST.shp')"
   ]
  },
  {
   "cell_type": "code",
   "execution_count": 107,
   "metadata": {},
   "outputs": [
    {
     "data": {
      "text/plain": [
       "False"
      ]
     },
     "execution_count": 107,
     "metadata": {},
     "output_type": "execute_result"
    }
   ],
   "source": [
    "'102011028' in data_abs[\"SA2_MAIN16\"]"
   ]
  },
  {
   "cell_type": "code",
   "execution_count": 85,
   "metadata": {},
   "outputs": [
    {
     "data": {
      "text/plain": [
       "str"
      ]
     },
     "execution_count": 85,
     "metadata": {},
     "output_type": "execute_result"
    }
   ],
   "source": [
    "type(data_abs[\"SLA_CODE10\"][0])"
   ]
  },
  {
   "cell_type": "code",
   "execution_count": 46,
   "metadata": {},
   "outputs": [],
   "source": [
    "NE_lat=data_abs[\"coords\"][0][0][0]   # -33\n",
    "NE_lng=data_abs[\"coords\"][0][0][1]     #150\n",
    "SW_lat=data_abs[\"coords\"][0][0][0] \n",
    "SW_lng=data_abs[\"coords\"][0][0][1] \n",
    "for i in data_abs[\"coords\"][0]:\n",
    "    if i[0] > NE_lng:\n",
    "        NE_lng = i[0]\n",
    "    if i[0] < SW_lng:\n",
    "        SW_lng = i[0]\n",
    "    if i[1] > NE_lat:\n",
    "        NE_lat = i[1]\n",
    "    if i[1] < NE_lat:\n",
    "        NE_lat = i[1]"
   ]
  },
  {
   "cell_type": "code",
   "execution_count": 45,
   "metadata": {},
   "outputs": [
    {
     "data": {
      "text/plain": [
       "151.230796256"
      ]
     },
     "execution_count": 45,
     "metadata": {},
     "output_type": "execute_result"
    }
   ],
   "source": [
    "data_abs[\"coords\"][0][0][0]"
   ]
  },
  {
   "cell_type": "code",
   "execution_count": 47,
   "metadata": {},
   "outputs": [
    {
     "name": "stdout",
     "output_type": "stream",
     "text": [
      "-33.9533638235 151.23168144 151.230796256 -33.9533638235\n"
     ]
    }
   ],
   "source": [
    "print(NE_lat,NE_lng,SW_lat, SW_lng)"
   ]
  },
  {
   "cell_type": "code",
   "execution_count": 121,
   "metadata": {},
   "outputs": [],
   "source": [
    "data_SA2 = pd.read_csv('SA2_2016_AUST.csv')"
   ]
  },
  {
   "cell_type": "code",
   "execution_count": 122,
   "metadata": {},
   "outputs": [],
   "source": [
    "del data_SA2[\"SA2_5DIG16\"]\n",
    "del data_SA2[\"SA3_CODE16\"]\n",
    "del data_SA2[\"SA4_CODE16\"]\n",
    "del data_SA2[\"SA4_NAME16\"]\n",
    "del data_SA2[\"SA3_NAME16\"]\n",
    "del data_SA2[\"GCC_CODE16\"]\n",
    "del data_SA2[\"STE_NAME16\"]\n",
    "del data_SA2[\"STE_CODE16\"]\n",
    "del data_SA2[\"AREASQKM16\"]\n",
    "del data_SA2[\"GCC_NAME16\"]"
   ]
  },
  {
   "cell_type": "code",
   "execution_count": 126,
   "metadata": {},
   "outputs": [
    {
     "data": {
      "text/html": [
       "<div>\n",
       "<style scoped>\n",
       "    .dataframe tbody tr th:only-of-type {\n",
       "        vertical-align: middle;\n",
       "    }\n",
       "\n",
       "    .dataframe tbody tr th {\n",
       "        vertical-align: top;\n",
       "    }\n",
       "\n",
       "    .dataframe thead th {\n",
       "        text-align: right;\n",
       "    }\n",
       "</style>\n",
       "<table border=\"1\" class=\"dataframe\">\n",
       "  <thead>\n",
       "    <tr style=\"text-align: right;\">\n",
       "      <th></th>\n",
       "      <th>SA2_MAIN16</th>\n",
       "      <th>SA2_NAME16</th>\n",
       "      <th>coords</th>\n",
       "    </tr>\n",
       "  </thead>\n",
       "  <tbody>\n",
       "    <tr>\n",
       "      <th>0</th>\n",
       "      <td>101021007</td>\n",
       "      <td>Braidwood</td>\n",
       "      <td>[(149.58423299700007, -35.44426999899997), (14...</td>\n",
       "    </tr>\n",
       "    <tr>\n",
       "      <th>1</th>\n",
       "      <td>101021008</td>\n",
       "      <td>Karabar</td>\n",
       "      <td>[(149.2189819130001, -35.36739402599994), (149...</td>\n",
       "    </tr>\n",
       "    <tr>\n",
       "      <th>2</th>\n",
       "      <td>101021009</td>\n",
       "      <td>Queanbeyan</td>\n",
       "      <td>[(149.2132479820001, -35.34324799199993), (149...</td>\n",
       "    </tr>\n",
       "    <tr>\n",
       "      <th>3</th>\n",
       "      <td>101021010</td>\n",
       "      <td>Queanbeyan - East</td>\n",
       "      <td>[(149.240332114, -35.34782261699996), (149.240...</td>\n",
       "    </tr>\n",
       "    <tr>\n",
       "      <th>4</th>\n",
       "      <td>101021011</td>\n",
       "      <td>Queanbeyan Region</td>\n",
       "      <td>[(149.23580096700005, -35.38737530299994), (14...</td>\n",
       "    </tr>\n",
       "    <tr>\n",
       "      <th>5</th>\n",
       "      <td>101021012</td>\n",
       "      <td>Queanbeyan West - Jerrabomberra</td>\n",
       "      <td>[(149.1957028700001, -35.361273282999946), (14...</td>\n",
       "    </tr>\n",
       "    <tr>\n",
       "      <th>6</th>\n",
       "      <td>101031013</td>\n",
       "      <td>Bombala</td>\n",
       "      <td>[(148.6800153580001, -36.992665312999975), (14...</td>\n",
       "    </tr>\n",
       "    <tr>\n",
       "      <th>7</th>\n",
       "      <td>101031014</td>\n",
       "      <td>Cooma</td>\n",
       "      <td>[(149.07506124500003, -36.240489611999976), (1...</td>\n",
       "    </tr>\n",
       "    <tr>\n",
       "      <th>8</th>\n",
       "      <td>101031015</td>\n",
       "      <td>Cooma Region</td>\n",
       "      <td>[(148.60437297700003, -36.13515199999995), (14...</td>\n",
       "    </tr>\n",
       "    <tr>\n",
       "      <th>9</th>\n",
       "      <td>101031016</td>\n",
       "      <td>Jindabyne - Berridale</td>\n",
       "      <td>[(148.27032917400004, -36.464141680999944), (1...</td>\n",
       "    </tr>\n",
       "    <tr>\n",
       "      <th>10</th>\n",
       "      <td>101041017</td>\n",
       "      <td>Batemans Bay</td>\n",
       "      <td>[(150.23535000000004, -35.70385700399993), (15...</td>\n",
       "    </tr>\n",
       "    <tr>\n",
       "      <th>11</th>\n",
       "      <td>101041018</td>\n",
       "      <td>Batemans Bay - South</td>\n",
       "      <td>[(150.21296498800007, -35.724339000999976), (1...</td>\n",
       "    </tr>\n",
       "    <tr>\n",
       "      <th>12</th>\n",
       "      <td>101041019</td>\n",
       "      <td>Bega - Tathra</td>\n",
       "      <td>[(149.9836330060001, -36.74973700299995), (149...</td>\n",
       "    </tr>\n",
       "    <tr>\n",
       "      <th>13</th>\n",
       "      <td>101041020</td>\n",
       "      <td>Bega-Eden Hinterland</td>\n",
       "      <td>[(150.00533200000007, -37.162580005999985), (1...</td>\n",
       "    </tr>\n",
       "    <tr>\n",
       "      <th>14</th>\n",
       "      <td>101041021</td>\n",
       "      <td>Broulee - Tomakin</td>\n",
       "      <td>[(150.20411100100011, -35.833849991999955), (1...</td>\n",
       "    </tr>\n",
       "    <tr>\n",
       "      <th>15</th>\n",
       "      <td>101041022</td>\n",
       "      <td>Deua - Wadbilliga</td>\n",
       "      <td>[(149.90354098300008, -36.192879990999984), (1...</td>\n",
       "    </tr>\n",
       "    <tr>\n",
       "      <th>16</th>\n",
       "      <td>101041023</td>\n",
       "      <td>Eden</td>\n",
       "      <td>[(149.91634401500005, -37.074006001999976), (1...</td>\n",
       "    </tr>\n",
       "    <tr>\n",
       "      <th>17</th>\n",
       "      <td>101041024</td>\n",
       "      <td>Eurobodalla Hinterland</td>\n",
       "      <td>[(150.28196699700004, -35.71031300499993), (15...</td>\n",
       "    </tr>\n",
       "    <tr>\n",
       "      <th>18</th>\n",
       "      <td>101041025</td>\n",
       "      <td>Merimbula - Tura Beach</td>\n",
       "      <td>[(149.93159002900006, -36.89753899799996), (14...</td>\n",
       "    </tr>\n",
       "    <tr>\n",
       "      <th>19</th>\n",
       "      <td>101041026</td>\n",
       "      <td>Moruya - Tuross Head</td>\n",
       "      <td>[(150.04985419000002, -35.911898494999946), (1...</td>\n",
       "    </tr>\n",
       "  </tbody>\n",
       "</table>\n",
       "</div>"
      ],
      "text/plain": [
       "    SA2_MAIN16                       SA2_NAME16  \\\n",
       "0    101021007                        Braidwood   \n",
       "1    101021008                          Karabar   \n",
       "2    101021009                       Queanbeyan   \n",
       "3    101021010                Queanbeyan - East   \n",
       "4    101021011                Queanbeyan Region   \n",
       "5    101021012  Queanbeyan West - Jerrabomberra   \n",
       "6    101031013                          Bombala   \n",
       "7    101031014                            Cooma   \n",
       "8    101031015                     Cooma Region   \n",
       "9    101031016            Jindabyne - Berridale   \n",
       "10   101041017                     Batemans Bay   \n",
       "11   101041018             Batemans Bay - South   \n",
       "12   101041019                    Bega - Tathra   \n",
       "13   101041020             Bega-Eden Hinterland   \n",
       "14   101041021                Broulee - Tomakin   \n",
       "15   101041022                Deua - Wadbilliga   \n",
       "16   101041023                             Eden   \n",
       "17   101041024           Eurobodalla Hinterland   \n",
       "18   101041025           Merimbula - Tura Beach   \n",
       "19   101041026             Moruya - Tuross Head   \n",
       "\n",
       "                                               coords  \n",
       "0   [(149.58423299700007, -35.44426999899997), (14...  \n",
       "1   [(149.2189819130001, -35.36739402599994), (149...  \n",
       "2   [(149.2132479820001, -35.34324799199993), (149...  \n",
       "3   [(149.240332114, -35.34782261699996), (149.240...  \n",
       "4   [(149.23580096700005, -35.38737530299994), (14...  \n",
       "5   [(149.1957028700001, -35.361273282999946), (14...  \n",
       "6   [(148.6800153580001, -36.992665312999975), (14...  \n",
       "7   [(149.07506124500003, -36.240489611999976), (1...  \n",
       "8   [(148.60437297700003, -36.13515199999995), (14...  \n",
       "9   [(148.27032917400004, -36.464141680999944), (1...  \n",
       "10  [(150.23535000000004, -35.70385700399993), (15...  \n",
       "11  [(150.21296498800007, -35.724339000999976), (1...  \n",
       "12  [(149.9836330060001, -36.74973700299995), (149...  \n",
       "13  [(150.00533200000007, -37.162580005999985), (1...  \n",
       "14  [(150.20411100100011, -35.833849991999955), (1...  \n",
       "15  [(149.90354098300008, -36.192879990999984), (1...  \n",
       "16  [(149.91634401500005, -37.074006001999976), (1...  \n",
       "17  [(150.28196699700004, -35.71031300499993), (15...  \n",
       "18  [(149.93159002900006, -36.89753899799996), (14...  \n",
       "19  [(150.04985419000002, -35.911898494999946), (1...  "
      ]
     },
     "execution_count": 126,
     "metadata": {},
     "output_type": "execute_result"
    }
   ],
   "source": [
    "data_SA2.head(20)"
   ]
  },
  {
   "cell_type": "code",
   "execution_count": 127,
   "metadata": {},
   "outputs": [],
   "source": [
    "data_SA2.to_csv(\"SA2_2016_AUST.csv\",index=False)"
   ]
  },
  {
   "cell_type": "code",
   "execution_count": null,
   "metadata": {},
   "outputs": [],
   "source": []
  },
  {
   "cell_type": "code",
   "execution_count": 20,
   "metadata": {},
   "outputs": [
    {
     "data": {
      "text/html": [
       "<div>\n",
       "<style scoped>\n",
       "    .dataframe tbody tr th:only-of-type {\n",
       "        vertical-align: middle;\n",
       "    }\n",
       "\n",
       "    .dataframe tbody tr th {\n",
       "        vertical-align: top;\n",
       "    }\n",
       "\n",
       "    .dataframe thead th {\n",
       "        text-align: right;\n",
       "    }\n",
       "</style>\n",
       "<table border=\"1\" class=\"dataframe\">\n",
       "  <thead>\n",
       "    <tr style=\"text-align: right;\">\n",
       "      <th></th>\n",
       "      <th>area_id</th>\n",
       "      <th>area_name</th>\n",
       "      <th>land_area</th>\n",
       "      <th>population</th>\n",
       "      <th>number_of_dwellings</th>\n",
       "      <th>number_of_businesses</th>\n",
       "    </tr>\n",
       "  </thead>\n",
       "  <tbody>\n",
       "    <tr>\n",
       "      <th>0</th>\n",
       "      <td>102011028</td>\n",
       "      <td>Avoca Beach - Copacabana</td>\n",
       "      <td>643.8</td>\n",
       "      <td>7590.0</td>\n",
       "      <td>2325</td>\n",
       "      <td>738.0</td>\n",
       "    </tr>\n",
       "    <tr>\n",
       "      <th>1</th>\n",
       "      <td>102011029</td>\n",
       "      <td>Box Head - MacMasters Beach</td>\n",
       "      <td>3208.6</td>\n",
       "      <td>10986.0</td>\n",
       "      <td>3847</td>\n",
       "      <td>907.0</td>\n",
       "    </tr>\n",
       "    <tr>\n",
       "      <th>2</th>\n",
       "      <td>102011030</td>\n",
       "      <td>Calga - Kulnura</td>\n",
       "      <td>76795.1</td>\n",
       "      <td>4841.0</td>\n",
       "      <td>1575</td>\n",
       "      <td>1102.0</td>\n",
       "    </tr>\n",
       "    <tr>\n",
       "      <th>3</th>\n",
       "      <td>102011031</td>\n",
       "      <td>Erina - Green Point</td>\n",
       "      <td>3379.3</td>\n",
       "      <td>14237.0</td>\n",
       "      <td>4450</td>\n",
       "      <td>1666.0</td>\n",
       "    </tr>\n",
       "    <tr>\n",
       "      <th>4</th>\n",
       "      <td>102011032</td>\n",
       "      <td>Gosford - Springfield</td>\n",
       "      <td>1691.2</td>\n",
       "      <td>19385.0</td>\n",
       "      <td>6373</td>\n",
       "      <td>2126.0</td>\n",
       "    </tr>\n",
       "  </tbody>\n",
       "</table>\n",
       "</div>"
      ],
      "text/plain": [
       "     area_id                    area_name  land_area  population  \\\n",
       "0  102011028     Avoca Beach - Copacabana      643.8      7590.0   \n",
       "1  102011029  Box Head - MacMasters Beach     3208.6     10986.0   \n",
       "2  102011030              Calga - Kulnura    76795.1      4841.0   \n",
       "3  102011031          Erina - Green Point     3379.3     14237.0   \n",
       "4  102011032        Gosford - Springfield     1691.2     19385.0   \n",
       "\n",
       "   number_of_dwellings  number_of_businesses  \n",
       "0                 2325                 738.0  \n",
       "1                 3847                 907.0  \n",
       "2                 1575                1102.0  \n",
       "3                 4450                1666.0  \n",
       "4                 6373                2126.0  "
      ]
     },
     "execution_count": 20,
     "metadata": {},
     "output_type": "execute_result"
    }
   ],
   "source": [
    "data_Neighbourhoods.head()"
   ]
  },
  {
   "cell_type": "code",
   "execution_count": null,
   "metadata": {},
   "outputs": [],
   "source": []
  },
  {
   "cell_type": "code",
   "execution_count": 34,
   "metadata": {},
   "outputs": [
    {
     "name": "stdout",
     "output_type": "stream",
     "text": [
      "<class 'pandas.core.frame.DataFrame'>\n",
      "RangeIndex: 312 entries, 0 to 311\n",
      "Data columns (total 6 columns):\n",
      "area_id                 312 non-null int64\n",
      "area_name               312 non-null object\n",
      "land_area               312 non-null float64\n",
      "population              311 non-null float64\n",
      "number_of_dwellings     312 non-null int64\n",
      "number_of_businesses    309 non-null float64\n",
      "dtypes: float64(3), int64(2), object(1)\n",
      "memory usage: 14.7+ KB\n"
     ]
    }
   ],
   "source": [
    "data_Neighbourhoods.info()"
   ]
  },
  {
   "cell_type": "markdown",
   "metadata": {},
   "source": [
    "## input missing value"
   ]
  },
  {
   "cell_type": "code",
   "execution_count": 35,
   "metadata": {},
   "outputs": [
    {
     "name": "stdout",
     "output_type": "stream",
     "text": [
      "nan\n",
      "nan\n",
      "nan\n"
     ]
    }
   ],
   "source": [
    "count = 0\n",
    "for i in data_Neighbourhoods['number_of_businesses']:\n",
    "    if \".0\" not in str(i):  # missing value\n",
    "        print(i)\n",
    "        data_Neighbourhoods['number_of_businesses'][count] = 0\n",
    "    count += 1\n",
    "\n",
    "# check\n",
    "for i in data_Neighbourhoods['number_of_businesses']:\n",
    "    if \".0\" not in str(i): \n",
    "        print(\"if print this, fail-----\")  \n"
   ]
  },
  {
   "cell_type": "code",
   "execution_count": 36,
   "metadata": {},
   "outputs": [
    {
     "name": "stdout",
     "output_type": "stream",
     "text": [
      "nan\n"
     ]
    }
   ],
   "source": [
    "count = 0\n",
    "for i in data_Neighbourhoods['population']:\n",
    "    if \".0\" not in str(i):  # missing value\n",
    "        print(i)\n",
    "        data_Neighbourhoods['population'][count] = 0\n",
    "    count += 1\n",
    "\n",
    "# check\n",
    "for i in data_Neighbourhoods['population']:\n",
    "    if \".0\" not in str(i): \n",
    "        print(i)\n",
    "        print(\"if print this, fail-----\")  "
   ]
  },
  {
   "cell_type": "code",
   "execution_count": null,
   "metadata": {},
   "outputs": [],
   "source": [
    "pod_name = []\n",
    "for i in data_Neighbourhoods['area_name']:\n",
    "    \n",
    "    pod_name.append(i)"
   ]
  }
 ],
 "metadata": {
  "kernelspec": {
   "display_name": "Python 3",
   "language": "python",
   "name": "python3"
  },
  "language_info": {
   "codemirror_mode": {
    "name": "ipython",
    "version": 3
   },
   "file_extension": ".py",
   "mimetype": "text/x-python",
   "name": "python",
   "nbconvert_exporter": "python",
   "pygments_lexer": "ipython3",
   "version": "3.7.1"
  }
 },
 "nbformat": 4,
 "nbformat_minor": 2
}
