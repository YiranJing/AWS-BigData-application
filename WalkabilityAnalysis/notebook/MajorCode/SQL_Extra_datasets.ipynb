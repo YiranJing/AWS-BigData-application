{
 "cells": [
  {
   "cell_type": "markdown",
   "metadata": {},
   "source": [
    "# Creating and Loading tables from csv files"
   ]
  },
  {
   "cell_type": "code",
   "execution_count": null,
   "metadata": {},
   "outputs": [],
   "source": [
    "import csv\n",
    "import pprint\n",
    "data_list = [\n",
    "    list(csv.DictReader(open('/home/hohe6356/Desktop/files_csv/BusStops.csv'))),\n",
    "    list(csv.DictReader(open('/home/hohe6356/Desktop/files_csv/LibraryBookstore.csv'))),\n",
    "    list(csv.DictReader(open('/home/hohe6356/Desktop/files_csv/ParksPlaygrounds.csv'))),\n",
    "    list(csv.DictReader(open('/home/hohe6356/Desktop/files_csv/TrainStation.csv')))\n",
    "]"
   ]
  },
  {
   "cell_type": "code",
   "execution_count": null,
   "metadata": {},
   "outputs": [],
   "source": [
    "def pgexec( conn, sqlcmd, args, msg, silent=False ):\n",
    "   \"\"\" utility function to execute some SQL statement\n",
    "       can take optional arguments to fill in (dictionary)\n",
    "       error and transaction handling built-in \"\"\"\n",
    "   retval = False\n",
    "   with conn:\n",
    "      with conn.cursor() as cur:\n",
    "         try:\n",
    "            if args is None:\n",
    "               cur.execute(sqlcmd)\n",
    "            else:\n",
    "               cur.execute(sqlcmd, args)\n",
    "            if silent == False: \n",
    "                print(\"success: \" + msg)\n",
    "            retval = True\n",
    "         except Exception as e:\n",
    "            if silent == False: \n",
    "                print(\"db error: \")\n",
    "                print(e)\n",
    "   return retval"
   ]
  },
  {
   "cell_type": "code",
   "execution_count": null,
   "metadata": {},
   "outputs": [],
   "source": [
    "def pgquery( conn, sqlcmd, args, silent=False ):\n",
    "   \"\"\" utility function to execute some SQL query statement\n",
    "       can take optional arguments to fill in (dictionary)\n",
    "       will print out on screen the result set of the query\n",
    "       error and transaction handling built-in \"\"\"\n",
    "   retval = False\n",
    "   with conn:\n",
    "      with conn.cursor() as cur:\n",
    "         try:\n",
    "            if args is None:\n",
    "                cur.execute(sqlcmd)\n",
    "            else:\n",
    "                cur.execute(sqlcmd, args)\n",
    "            if silent == False:\n",
    "                for record in cur:\n",
    "                    print(record)\n",
    "            retval = True\n",
    "         except Exception as e:\n",
    "            if silent == False:\n",
    "                print(\"db read error: \")\n",
    "                print(e)\n",
    "   return retval"
   ]
  },
  {
   "cell_type": "code",
   "execution_count": null,
   "metadata": {},
   "outputs": [],
   "source": [
    "import psycopg2\n",
    "\n",
    "def pgconnect():\n",
    "    # please replace <your_unikey> and <your_SID> with your own details\n",
    "    YOUR_UNIKEY = 'hohe6356'#'<your_unikey>'\n",
    "    YOUR_PW     = '460012791'#'<your_SID>'\n",
    "    try: \n",
    "        conn = psycopg2.connect(host='soit-db-pro-1.ucc.usyd.edu.au',\n",
    "                               database='y18s1d2001_'+YOUR_UNIKEY,\n",
    "                               user='y18s1d2001_'+YOUR_UNIKEY, \n",
    "                               password=YOUR_PW)\n",
    "        \n",
    "#         conn = psycopg2.connect(host='localhost', database='waterinfo', user='matloob', password='matloob')\n",
    "        \n",
    "        print('connected')\n",
    "    except Exception as e:\n",
    "        print(\"unable to connect to the database\")\n",
    "        print(e)\n",
    "    return conn\n",
    "pgconnect()\n"
   ]
  },
  {
   "cell_type": "code",
   "execution_count": null,
   "metadata": {},
   "outputs": [],
   "source": [
    "# 1st: login to database\n",
    "conn = pgconnect()\n",
    "\n",
    "# if you want to reset the table\n",
    "pgexec (conn, 'DROP TABLE IF EXISTS walkability.BusStops',None, \"Reset Table BusStops\")\n",
    "pgexec (conn, 'DROP TABLE IF EXISTS walkability.LibraryBookstore',None, \"Reset Table LibraryBookstore\")\n",
    "pgexec (conn, 'DROP TABLE IF EXISTS walkability.ParksPlaygrounds',None, \"Reset Table ParksPlaygrounds\")\n",
    "pgexec (conn, 'DROP TABLE IF EXISTS walkability.TrainStation',None, \"Reset Table TrainStation\")\n",
    "\n",
    "# 2nd: ensure that the schema is in place\n",
    "BusStops_schema = \"\"\"CREATE TABLE IF NOT EXISTS walkability.BusStops (\n",
    "                        stop_id BIGINT PRIMARY KEY,\n",
    "                        stop_code TEXT,\n",
    "                        gps POINT\n",
    "                   )\"\"\"\n",
    "LibraryBookstore_schema = \"\"\"CREATE TABLE IF NOT EXISTS walkability.LibraryBookstore (\n",
    "                        name TEXT PRIMARY KEY,\n",
    "                        gps POINT\n",
    "                   )\"\"\"\n",
    "ParksPlaygrounds_schema = \"\"\"CREATE TABLE IF NOT EXISTS walkability.ParksPlaygrounds (\n",
    "                        name TEXT PRIMARY KEY,\n",
    "                        gps POINT\n",
    "                   )\"\"\"\n",
    "TrainStation_schema = \"\"\"CREATE TABLE IF NOT EXISTS walkability.TrainStation (\n",
    "                        name TEXT PRIMARY KEY,\n",
    "                        gps POINT\n",
    "                   )\"\"\"\n",
    "\n",
    "pgexec (conn, BusStops_schema, None, 'Create Table BusStops')\n",
    "pgexec (conn, LibraryBookstore_schema, None, 'Create Table LibraryBookstore')\n",
    "pgexec (conn, ParksPlaygrounds_schema, None, 'Create Table ParksPlaygrounds')\n",
    "pgexec (conn, TrainStation_schema, None, 'Create Table TrainStation')\n",
    "\n",
    "# 3nd: load data\n",
    "# IMPORTANT: make sure the header line of CSV is without spaces!\n",
    "insert_stmt = [\n",
    "    \"\"\"INSERT INTO walkability.BusStops(stop_id,stop_code,gps) VALUES (%(stop_id)s,%(stop_code)s,POINT(%(stop_lat)s,%(stop_lon)s))\"\"\",\n",
    "    \"\"\"INSERT INTO walkability.LibraryBookstore(name,gps) VALUES (%(name)s,POINT(%(GPS_lat)s,%(GPS_lng)s))\"\"\",\n",
    "    \"\"\"INSERT INTO walkability.ParksPlaygrounds(name,gps) VALUES (%(name)s,POINT(%(GPS_lat)s,%(GPS_lng)s))\"\"\",\n",
    "    \"\"\"INSERT INTO walkability.TrainStation(name,gps) VALUES (%(name)s,POINT(%(GPS_lat)s,%(GPS_lng)s))\"\"\"\n",
    "]\n",
    "for insert,data in zip(insert_stmt,data_list):\n",
    "    for row in data:\n",
    "         pgexec (conn, insert, row, \"row inserted\")"
   ]
  },
  {
   "cell_type": "markdown",
   "metadata": {
    "collapsed": true
   },
   "source": [
    "# Creating and Loading a table from a txt file"
   ]
  },
  {
   "cell_type": "code",
   "execution_count": null,
   "metadata": {},
   "outputs": [],
   "source": [
    "# Step 1. Create a table caleed busStops\n",
    "conn = pgconnect()\n",
    "# pgexec (conn, 'DROP TABLE IF EXISTS walkability.BusStops',None, \"Reset Table BusStops\")\n",
    "Stops_schema = \"\"\"CREATE TABLE IF NOT EXISTS walkability.busStops (\n",
    "                        stop_id TEXT PRIMARY KEY,\n",
    "                        stop_code TEXT,\n",
    "                        stop_name TEXT,\n",
    "                        stop_lat FLOAT,\n",
    "                        stop_lon FLOAT,\n",
    "                        location_type TEXT,\n",
    "                        parent_station TEXT,\n",
    "                        wheelchair_boarding TEXT,\n",
    "                        platform_code TEXT\n",
    "                   )\"\"\"\n",
    "# pgexec (conn, Stops_schema, None, 'Create Table Stops')\n",
    "\n",
    "# Step 2. Load data into busStops table from dataset \n",
    "# This is done by typing the command below in the terminal \n",
    "query_stmt = \"\"\"\\copy walkability.stops FROM '/home/hohe6356/Desktop/stops.txt' WITH CSV HEADER\"\"\"\n",
    "\n",
    "# Step 3. Drop the useless columns\n",
    "sqlcmd = \"\"\"ALTER TABLE walkability.BusStops \n",
    "            DROP COLUMN stop_code, DROP COLUMN location_type, DROP COLUMN parent_station,DROP COLUMN wheelchair_boarding,DROP COLUMN platform_code;\"\"\"\n",
    "pgexec (conn, sqlcmd, row, \"Drop useless columns\")\n",
    "\n"
   ]
  }
 ],
 "metadata": {
  "kernelspec": {
   "display_name": "Python 3",
   "language": "python",
   "name": "python3"
  },
  "language_info": {
   "codemirror_mode": {
    "name": "ipython",
    "version": 3
   },
   "file_extension": ".py",
   "mimetype": "text/x-python",
   "name": "python",
   "nbconvert_exporter": "python",
   "pygments_lexer": "ipython3",
   "version": "3.7.1"
  }
 },
 "nbformat": 4,
 "nbformat_minor": 2
}
