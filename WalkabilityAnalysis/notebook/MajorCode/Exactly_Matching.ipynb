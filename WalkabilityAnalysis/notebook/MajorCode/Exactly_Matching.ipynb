{
 "cells": [
  {
   "cell_type": "markdown",
   "metadata": {},
   "source": [
    "### Neighbourhood Join\n",
    "correct precise matching"
   ]
  },
  {
   "cell_type": "code",
   "execution_count": 7,
   "metadata": {},
   "outputs": [],
   "source": [
    "# please put all the package used here\n",
    "from collections import Counter\n",
    "import pandas as pd\n",
    "import csv\n",
    "import pprint\n",
    "import numpy as np\n",
    "import warnings\n",
    "import requests\n",
    "import json\n",
    "warnings.filterwarnings('ignore')\n",
    "import psycopg2\n",
    "import psycopg2.extras\n",
    "import time\n",
    "import ast # convert string to dictionary\n",
    "from scipy import stats\n",
    "from scipy.stats import zscore\n",
    "import matplotlib.pyplot as plt\n",
    "from sklearn.preprocessing import MinMaxScaler\n",
    "import seaborn as sns  \n",
    "sns.set_context('notebook')    \n",
    "import statsmodels.formula.api as smf\n",
    "import math as ma\n",
    "from scipy import stats\n",
    "import statsmodels.api as sm\n",
    "import shapefile as shp\n",
    "import shapefile\n",
    "from shapely.geometry import Point\n",
    "from shapely.geometry.polygon import Polygon\n",
    "\n",
    "\n"
   ]
  },
  {
   "cell_type": "code",
   "execution_count": 8,
   "metadata": {},
   "outputs": [],
   "source": [
    "data_BusinessStats = pd.read_csv('new_BusinessStats.csv')\n",
    "data_CensusStats = pd.read_csv('new_CensusStats.csv')\n",
    "data = pd.read_csv('walkibility_score.csv')\n",
    "data_CarSharingPods = pd.read_csv('new_CarSharingPods.csv')\n",
    "data_park = pd.read_csv('ParksPlaygrounds.csv')\n",
    "data_lib = pd.read_csv('LibraryBookstore.csv')\n",
    "data_train = pd.read_csv('TrainStation.csv')\n",
    "data_bus = pd.read_csv('BusStops.csv')"
   ]
  },
  {
   "cell_type": "code",
   "execution_count": 9,
   "metadata": {},
   "outputs": [],
   "source": [
    "data.head()\n",
    "del data['carpods_num']\n",
    "del data['busstops_num']\n",
    "del data['librarybookstore_num']\n",
    "del data['parksplaygrounds_num']\n",
    "del data['trainstation_num'] "
   ]
  },
  {
   "cell_type": "code",
   "execution_count": 17,
   "metadata": {},
   "outputs": [],
   "source": [
    "sf = shp.Reader(\"Sydney2_2016_AUST.shp\")\n",
    "data['carpods_num']=np.nan\n",
    "data['busstops_num']=np.nan\n",
    "data['librarybookstore_num']=np.nan\n",
    "data['parksplaygrounds_num']=np.nan\n",
    "data['trainstation_num']=np.nan\n",
    "count = 0\n",
    "for shape in sf.shapeRecords():\n",
    "    num1 = 0\n",
    "    num2 = 0\n",
    "    num3 = 0\n",
    "    num4 = 0\n",
    "    num5 = 0\n",
    "    polygon = Polygon([(i[0],i[1]) for i in shape.shape.points[:]])\n",
    "    \n",
    "    # calculate number of carpods in each area\n",
    "    for i in range(len(data_CarSharingPods)):\n",
    "        lat = data_CarSharingPods['latitude'][i]\n",
    "        lng = data_CarSharingPods['longitude'][i]\n",
    "        point = Point(lng, lat)\n",
    "        if polygon.contains(point):\n",
    "            num1 += 1\n",
    "    # calculate number of busstop in each area\n",
    "    for i in range(len(data_bus)):\n",
    "        lat = data_bus['stop_lat'][i]\n",
    "        lng = data_bus['stop_lon'][i]\n",
    "        point = Point(lng, lat)\n",
    "        if polygon.contains(point):\n",
    "            num2 += 1\n",
    "    # calculate number of lib in each area\n",
    "    for i in range(len(data_lib)):\n",
    "        lat = data_lib['GPS_lat'][i]\n",
    "        lng = data_lib['GPS_lng'][i]\n",
    "        point = Point(lng, lat)\n",
    "        if polygon.contains(point):\n",
    "            num3 += 1\n",
    "    # calculate number of park in each area\n",
    "    for i in range(len(data_park)):\n",
    "        lat = data_park['GPS_lat'][i]\n",
    "        lng = data_park['GPS_lng'][i]\n",
    "        point = Point(lng, lat)\n",
    "        if polygon.contains(point):\n",
    "            num4 += 1\n",
    "    # calculate number of train station in each area\n",
    "    for i in range(len(data_train)):\n",
    "        lat = data_train['GPS_lat'][i]\n",
    "        lng = data_train['GPS_lng'][i]\n",
    "        point = Point(lng, lat)\n",
    "        if polygon.contains(point):\n",
    "            num5 += 1\n",
    "    \n",
    "    data['carpods_num'][count] = num1\n",
    "    data['busstops_num'][count] = num2\n",
    "    data['librarybookstore_num'][count] = num3\n",
    "    data['parksplaygrounds_num'][count] = num4\n",
    "    data['trainstation_num'][count] = num5\n",
    "    count += 1       "
   ]
  },
  {
   "cell_type": "code",
   "execution_count": 19,
   "metadata": {},
   "outputs": [],
   "source": [
    "data.to_csv(\"exact_matching.csv\",index=False)"
   ]
  },
  {
   "cell_type": "code",
   "execution_count": null,
   "metadata": {},
   "outputs": [],
   "source": []
  }
 ],
 "metadata": {
  "kernelspec": {
   "display_name": "Python 3",
   "language": "python",
   "name": "python3"
  },
  "language_info": {
   "codemirror_mode": {
    "name": "ipython",
    "version": 3
   },
   "file_extension": ".py",
   "mimetype": "text/x-python",
   "name": "python",
   "nbconvert_exporter": "python",
   "pygments_lexer": "ipython3",
   "version": "3.7.1"
  }
 },
 "nbformat": 4,
 "nbformat_minor": 2
}
