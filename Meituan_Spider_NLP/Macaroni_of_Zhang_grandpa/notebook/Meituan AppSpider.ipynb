{
 "cells": [
  {
   "cell_type": "markdown",
   "metadata": {},
   "source": [
    "# Meituan AppSpider\n",
    "- Author: Yiran Jing\n",
    "\n",
    "Build Meituan AppSpider to collect customer comments of 'Macaroni of Zhang grandpa' chain restaurants and its main competitors using Amazon Sagemaker python, save information to S3 buckets. \n",
    "\n",
    "Scraping content:\n",
    "1. Store location（店铺地址）\n",
    "2. Score of store （店铺评分）\n",
    "3. Consumption per person （人均消费）\n",
    "4. Business Hours （营业时间）\n",
    "5. Customer comments (网友点评)\n",
    "6. Recommended dishes (推荐菜)\n",
    "\n",
    "\n",
    "Reference: \n",
    "\n",
    "1. https://github.com/hahaha108/meituanAppSpider\n",
    "2. https://blog.csdn.net/slphahaha/article/details/81145404\n"
   ]
  },
  {
   "cell_type": "code",
   "execution_count": 20,
   "metadata": {},
   "outputs": [],
   "source": [
    "import requests\n",
    "import json\n",
    "from lxml import etree\n",
    "import pandas as pd\n",
    "import re\n",
    "import math\n",
    "import urllib\n",
    "import urllib.request as urllib2\n",
    "import xlsxwriter\n",
    "from bs4 import BeautifulSoup\n",
    "import warnings\n",
    "warnings.filterwarnings('ignore')\n",
    "\n",
    "import scrapy\n",
    "from scrapy.crawler import CrawlerProcess\n",
    "from scrapy.utils.project import get_project_settings\n",
    "\n",
    "# set headers\n",
    "headers = {'User-Agent': 'Mozilla/5.0 (Macintosh; Intel Mac OS X 10_12_3) AppleWebKit/537.36 (KHTML, like Gecko) Chrome/56.0.2924.87 Safari/537.36'}"
   ]
  },
  {
   "cell_type": "markdown",
   "metadata": {},
   "source": [
    "##### Install Scrapy"
   ]
  },
  {
   "cell_type": "raw",
   "metadata": {},
   "source": [
    "! pip install scrapy"
   ]
  },
  {
   "cell_type": "raw",
   "metadata": {},
   "source": [
    "! pip install --upgrade pip"
   ]
  },
  {
   "cell_type": "raw",
   "metadata": {},
   "source": [
    "! pip install PyMySQL"
   ]
  },
  {
   "cell_type": "markdown",
   "metadata": {},
   "source": [
    "! pip install pymongo"
   ]
  },
  {
   "cell_type": "raw",
   "metadata": {},
   "source": [
    "! pip install py2neo"
   ]
  },
  {
   "cell_type": "code",
   "execution_count": 43,
   "metadata": {},
   "outputs": [
    {
     "name": "stderr",
     "output_type": "stream",
     "text": [
      "2019-07-27 06:02:48 [urllib3.connectionpool] DEBUG: Starting new HTTP connection (1): api.meituan.com:80\n"
     ]
    },
    {
     "name": "stdout",
     "output_type": "stream",
     "text": [
      ">>>> we are in files.\n"
     ]
    },
    {
     "name": "stderr",
     "output_type": "stream",
     "text": [
      "2019-07-27 06:02:50 [urllib3.connectionpool] DEBUG: http://api.meituan.com:80 \"GET /group/v4/deal/select/city/94/cate/1?sort=solds&hasGroup=true&mpt_cate1=1&offset=0&limit=25 HTTP/1.1\" 200 None\n"
     ]
    },
    {
     "name": "stdout",
     "output_type": "stream",
     "text": [
      "已成功请求25个商家信息\n",
      "已成功获取25个商家信息\n"
     ]
    },
    {
     "name": "stderr",
     "output_type": "stream",
     "text": [
      "2019-07-27 06:02:52 [urllib3.connectionpool] DEBUG: Starting new HTTP connection (1): api.meituan.com:80\n",
      "2019-07-27 06:02:52 [urllib3.connectionpool] DEBUG: http://api.meituan.com:80 \"GET /group/v4/deal/select/city/94/cate/1?sort=solds&hasGroup=true&mpt_cate1=1&offset=25&limit=25 HTTP/1.1\" 200 None\n"
     ]
    },
    {
     "name": "stdout",
     "output_type": "stream",
     "text": [
      "已成功请求50个商家信息\n",
      "已成功获取50个商家信息\n"
     ]
    },
    {
     "name": "stderr",
     "output_type": "stream",
     "text": [
      "2019-07-27 06:02:54 [urllib3.connectionpool] DEBUG: Starting new HTTP connection (1): api.meituan.com:80\n",
      "2019-07-27 06:02:55 [urllib3.connectionpool] DEBUG: http://api.meituan.com:80 \"GET /group/v4/deal/select/city/94/cate/1?sort=solds&hasGroup=true&mpt_cate1=1&offset=50&limit=25 HTTP/1.1\" 200 None\n"
     ]
    },
    {
     "name": "stdout",
     "output_type": "stream",
     "text": [
      "已成功请求75个商家信息\n",
      "已成功获取75个商家信息\n"
     ]
    },
    {
     "name": "stderr",
     "output_type": "stream",
     "text": [
      "2019-07-27 06:03:00 [urllib3.connectionpool] DEBUG: Starting new HTTP connection (1): api.meituan.com:80\n",
      "2019-07-27 06:03:00 [urllib3.connectionpool] DEBUG: http://api.meituan.com:80 \"GET /group/v4/deal/select/city/94/cate/1?sort=solds&hasGroup=true&mpt_cate1=1&offset=75&limit=25 HTTP/1.1\" 200 None\n"
     ]
    },
    {
     "name": "stdout",
     "output_type": "stream",
     "text": [
      "已成功请求100个商家信息\n",
      "已成功获取100个商家信息\n"
     ]
    },
    {
     "name": "stderr",
     "output_type": "stream",
     "text": [
      "2019-07-27 06:03:03 [urllib3.connectionpool] DEBUG: Starting new HTTP connection (1): api.meituan.com:80\n",
      "2019-07-27 06:03:04 [urllib3.connectionpool] DEBUG: http://api.meituan.com:80 \"GET /group/v4/deal/select/city/94/cate/1?sort=solds&hasGroup=true&mpt_cate1=1&offset=100&limit=25 HTTP/1.1\" 200 None\n"
     ]
    },
    {
     "name": "stdout",
     "output_type": "stream",
     "text": [
      "已成功请求125个商家信息\n",
      "已成功获取125个商家信息\n"
     ]
    },
    {
     "name": "stderr",
     "output_type": "stream",
     "text": [
      "2019-07-27 06:03:06 [urllib3.connectionpool] DEBUG: Starting new HTTP connection (1): api.meituan.com:80\n",
      "2019-07-27 06:03:06 [urllib3.connectionpool] DEBUG: http://api.meituan.com:80 \"GET /group/v4/deal/select/city/94/cate/1?sort=solds&hasGroup=true&mpt_cate1=1&offset=125&limit=25 HTTP/1.1\" 200 None\n"
     ]
    },
    {
     "name": "stdout",
     "output_type": "stream",
     "text": [
      "已成功请求150个商家信息\n",
      "已成功获取150个商家信息\n"
     ]
    },
    {
     "name": "stderr",
     "output_type": "stream",
     "text": [
      "2019-07-27 06:03:11 [urllib3.connectionpool] DEBUG: Starting new HTTP connection (1): api.meituan.com:80\n",
      "2019-07-27 06:03:12 [urllib3.connectionpool] DEBUG: http://api.meituan.com:80 \"GET /group/v4/deal/select/city/94/cate/1?sort=solds&hasGroup=true&mpt_cate1=1&offset=150&limit=25 HTTP/1.1\" 200 None\n"
     ]
    },
    {
     "name": "stdout",
     "output_type": "stream",
     "text": [
      "已成功请求175个商家信息\n",
      "已成功获取175个商家信息\n"
     ]
    },
    {
     "name": "stderr",
     "output_type": "stream",
     "text": [
      "2019-07-27 06:03:16 [urllib3.connectionpool] DEBUG: Starting new HTTP connection (1): api.meituan.com:80\n",
      "2019-07-27 06:03:16 [urllib3.connectionpool] DEBUG: http://api.meituan.com:80 \"GET /group/v4/deal/select/city/94/cate/1?sort=solds&hasGroup=true&mpt_cate1=1&offset=175&limit=25 HTTP/1.1\" 200 None\n"
     ]
    },
    {
     "name": "stdout",
     "output_type": "stream",
     "text": [
      "已成功请求200个商家信息\n",
      "已成功获取200个商家信息\n"
     ]
    },
    {
     "name": "stderr",
     "output_type": "stream",
     "text": [
      "2019-07-27 06:03:21 [urllib3.connectionpool] DEBUG: Starting new HTTP connection (1): api.meituan.com:80\n",
      "2019-07-27 06:03:22 [urllib3.connectionpool] DEBUG: http://api.meituan.com:80 \"GET /group/v4/deal/select/city/94/cate/1?sort=solds&hasGroup=true&mpt_cate1=1&offset=200&limit=25 HTTP/1.1\" 200 None\n"
     ]
    },
    {
     "name": "stdout",
     "output_type": "stream",
     "text": [
      "已成功请求225个商家信息\n",
      "已成功获取225个商家信息\n"
     ]
    },
    {
     "name": "stderr",
     "output_type": "stream",
     "text": [
      "2019-07-27 06:03:26 [urllib3.connectionpool] DEBUG: Starting new HTTP connection (1): api.meituan.com:80\n",
      "2019-07-27 06:03:26 [urllib3.connectionpool] DEBUG: http://api.meituan.com:80 \"GET /group/v4/deal/select/city/94/cate/1?sort=solds&hasGroup=true&mpt_cate1=1&offset=225&limit=25 HTTP/1.1\" 200 None\n"
     ]
    },
    {
     "name": "stdout",
     "output_type": "stream",
     "text": [
      "已成功请求250个商家信息\n",
      "已成功获取250个商家信息\n"
     ]
    },
    {
     "name": "stderr",
     "output_type": "stream",
     "text": [
      "2019-07-27 06:03:29 [urllib3.connectionpool] DEBUG: Starting new HTTP connection (1): api.meituan.com:80\n",
      "2019-07-27 06:03:30 [urllib3.connectionpool] DEBUG: http://api.meituan.com:80 \"GET /group/v4/deal/select/city/94/cate/1?sort=solds&hasGroup=true&mpt_cate1=1&offset=250&limit=25 HTTP/1.1\" 200 None\n"
     ]
    },
    {
     "name": "stdout",
     "output_type": "stream",
     "text": [
      "已成功请求275个商家信息\n",
      "已成功获取275个商家信息\n"
     ]
    },
    {
     "name": "stderr",
     "output_type": "stream",
     "text": [
      "2019-07-27 06:03:32 [urllib3.connectionpool] DEBUG: Starting new HTTP connection (1): api.meituan.com:80\n",
      "2019-07-27 06:03:32 [urllib3.connectionpool] DEBUG: http://api.meituan.com:80 \"GET /group/v4/deal/select/city/94/cate/1?sort=solds&hasGroup=true&mpt_cate1=1&offset=275&limit=25 HTTP/1.1\" 200 None\n"
     ]
    },
    {
     "name": "stdout",
     "output_type": "stream",
     "text": [
      "已成功请求300个商家信息\n",
      "已成功获取300个商家信息\n"
     ]
    },
    {
     "name": "stderr",
     "output_type": "stream",
     "text": [
      "2019-07-27 06:03:36 [urllib3.connectionpool] DEBUG: Starting new HTTP connection (1): api.meituan.com:80\n",
      "2019-07-27 06:03:37 [urllib3.connectionpool] DEBUG: http://api.meituan.com:80 \"GET /group/v4/deal/select/city/94/cate/1?sort=solds&hasGroup=true&mpt_cate1=1&offset=300&limit=25 HTTP/1.1\" 200 None\n"
     ]
    },
    {
     "name": "stdout",
     "output_type": "stream",
     "text": [
      "已成功请求325个商家信息\n",
      "已成功获取325个商家信息\n"
     ]
    },
    {
     "name": "stderr",
     "output_type": "stream",
     "text": [
      "2019-07-27 06:03:41 [urllib3.connectionpool] DEBUG: Starting new HTTP connection (1): api.meituan.com:80\n",
      "2019-07-27 06:03:42 [urllib3.connectionpool] DEBUG: http://api.meituan.com:80 \"GET /group/v4/deal/select/city/94/cate/1?sort=solds&hasGroup=true&mpt_cate1=1&offset=325&limit=25 HTTP/1.1\" 200 None\n"
     ]
    },
    {
     "name": "stdout",
     "output_type": "stream",
     "text": [
      "已成功请求350个商家信息\n",
      "已成功获取350个商家信息\n"
     ]
    },
    {
     "name": "stderr",
     "output_type": "stream",
     "text": [
      "2019-07-27 06:03:45 [urllib3.connectionpool] DEBUG: Starting new HTTP connection (1): api.meituan.com:80\n",
      "2019-07-27 06:03:45 [urllib3.connectionpool] DEBUG: http://api.meituan.com:80 \"GET /group/v4/deal/select/city/94/cate/1?sort=solds&hasGroup=true&mpt_cate1=1&offset=350&limit=25 HTTP/1.1\" 200 None\n"
     ]
    },
    {
     "name": "stdout",
     "output_type": "stream",
     "text": [
      "已成功请求375个商家信息\n",
      "已成功获取375个商家信息\n"
     ]
    },
    {
     "name": "stderr",
     "output_type": "stream",
     "text": [
      "2019-07-27 06:03:50 [urllib3.connectionpool] DEBUG: Starting new HTTP connection (1): api.meituan.com:80\n",
      "2019-07-27 06:03:51 [urllib3.connectionpool] DEBUG: http://api.meituan.com:80 \"GET /group/v4/deal/select/city/94/cate/1?sort=solds&hasGroup=true&mpt_cate1=1&offset=375&limit=25 HTTP/1.1\" 200 None\n"
     ]
    },
    {
     "name": "stdout",
     "output_type": "stream",
     "text": [
      "已成功请求400个商家信息\n",
      "已成功获取400个商家信息\n"
     ]
    },
    {
     "name": "stderr",
     "output_type": "stream",
     "text": [
      "2019-07-27 06:03:56 [urllib3.connectionpool] DEBUG: Starting new HTTP connection (1): api.meituan.com:80\n",
      "2019-07-27 06:03:56 [urllib3.connectionpool] DEBUG: http://api.meituan.com:80 \"GET /group/v4/deal/select/city/94/cate/1?sort=solds&hasGroup=true&mpt_cate1=1&offset=400&limit=25 HTTP/1.1\" 200 None\n"
     ]
    },
    {
     "name": "stdout",
     "output_type": "stream",
     "text": [
      "已成功请求425个商家信息\n",
      "已成功获取425个商家信息\n"
     ]
    },
    {
     "name": "stderr",
     "output_type": "stream",
     "text": [
      "2019-07-27 06:03:58 [urllib3.connectionpool] DEBUG: Starting new HTTP connection (1): api.meituan.com:80\n",
      "2019-07-27 06:03:59 [urllib3.connectionpool] DEBUG: http://api.meituan.com:80 \"GET /group/v4/deal/select/city/94/cate/1?sort=solds&hasGroup=true&mpt_cate1=1&offset=425&limit=25 HTTP/1.1\" 200 None\n"
     ]
    },
    {
     "name": "stdout",
     "output_type": "stream",
     "text": [
      "已成功请求450个商家信息\n",
      "已成功获取450个商家信息\n"
     ]
    },
    {
     "name": "stderr",
     "output_type": "stream",
     "text": [
      "2019-07-27 06:04:01 [urllib3.connectionpool] DEBUG: Starting new HTTP connection (1): api.meituan.com:80\n",
      "2019-07-27 06:04:01 [urllib3.connectionpool] DEBUG: http://api.meituan.com:80 \"GET /group/v4/deal/select/city/94/cate/1?sort=solds&hasGroup=true&mpt_cate1=1&offset=450&limit=25 HTTP/1.1\" 503 1320\n",
      "2019-07-27 06:04:11 [urllib3.connectionpool] DEBUG: Starting new HTTP connection (1): api.meituan.com:80\n",
      "2019-07-27 06:04:12 [urllib3.connectionpool] DEBUG: http://api.meituan.com:80 \"GET /group/v4/deal/select/city/94/cate/1?sort=solds&hasGroup=true&mpt_cate1=1&offset=450&limit=25 HTTP/1.1\" 200 None\n"
     ]
    },
    {
     "name": "stdout",
     "output_type": "stream",
     "text": [
      "已成功请求475个商家信息\n",
      "已成功获取475个商家信息\n"
     ]
    },
    {
     "name": "stderr",
     "output_type": "stream",
     "text": [
      "2019-07-27 06:04:17 [urllib3.connectionpool] DEBUG: Starting new HTTP connection (1): api.meituan.com:80\n",
      "2019-07-27 06:04:17 [urllib3.connectionpool] DEBUG: http://api.meituan.com:80 \"GET /group/v4/deal/select/city/94/cate/1?sort=solds&hasGroup=true&mpt_cate1=1&offset=475&limit=25 HTTP/1.1\" 200 None\n"
     ]
    },
    {
     "name": "stdout",
     "output_type": "stream",
     "text": [
      "已成功请求500个商家信息\n",
      "已成功获取500个商家信息\n"
     ]
    },
    {
     "name": "stderr",
     "output_type": "stream",
     "text": [
      "2019-07-27 06:04:19 [urllib3.connectionpool] DEBUG: Starting new HTTP connection (1): api.meituan.com:80\n",
      "2019-07-27 06:04:20 [urllib3.connectionpool] DEBUG: http://api.meituan.com:80 \"GET /group/v4/deal/select/city/94/cate/1?sort=solds&hasGroup=true&mpt_cate1=1&offset=500&limit=25 HTTP/1.1\" 200 None\n"
     ]
    },
    {
     "name": "stdout",
     "output_type": "stream",
     "text": [
      "已成功请求525个商家信息\n",
      "已成功获取525个商家信息\n"
     ]
    },
    {
     "name": "stderr",
     "output_type": "stream",
     "text": [
      "2019-07-27 06:04:24 [urllib3.connectionpool] DEBUG: Starting new HTTP connection (1): api.meituan.com:80\n",
      "2019-07-27 06:04:24 [urllib3.connectionpool] DEBUG: http://api.meituan.com:80 \"GET /group/v4/deal/select/city/94/cate/1?sort=solds&hasGroup=true&mpt_cate1=1&offset=525&limit=25 HTTP/1.1\" 200 None\n"
     ]
    },
    {
     "name": "stdout",
     "output_type": "stream",
     "text": [
      "已成功请求550个商家信息\n",
      "已成功获取550个商家信息\n"
     ]
    },
    {
     "name": "stderr",
     "output_type": "stream",
     "text": [
      "2019-07-27 06:04:29 [urllib3.connectionpool] DEBUG: Starting new HTTP connection (1): api.meituan.com:80\n",
      "2019-07-27 06:04:30 [urllib3.connectionpool] DEBUG: http://api.meituan.com:80 \"GET /group/v4/deal/select/city/94/cate/1?sort=solds&hasGroup=true&mpt_cate1=1&offset=550&limit=25 HTTP/1.1\" 403 166\n",
      "2019-07-27 06:04:40 [urllib3.connectionpool] DEBUG: Starting new HTTP connection (1): api.meituan.com:80\n",
      "2019-07-27 06:04:40 [urllib3.connectionpool] DEBUG: http://api.meituan.com:80 \"GET /group/v4/deal/select/city/94/cate/1?sort=solds&hasGroup=true&mpt_cate1=1&offset=550&limit=25 HTTP/1.1\" 200 None\n"
     ]
    },
    {
     "name": "stdout",
     "output_type": "stream",
     "text": [
      "已成功请求575个商家信息\n",
      "已成功获取575个商家信息\n"
     ]
    },
    {
     "name": "stderr",
     "output_type": "stream",
     "text": [
      "2019-07-27 06:04:44 [urllib3.connectionpool] DEBUG: Starting new HTTP connection (1): api.meituan.com:80\n",
      "2019-07-27 06:04:45 [urllib3.connectionpool] DEBUG: http://api.meituan.com:80 \"GET /group/v4/deal/select/city/94/cate/1?sort=solds&hasGroup=true&mpt_cate1=1&offset=575&limit=25 HTTP/1.1\" 503 1320\n",
      "2019-07-27 06:04:55 [urllib3.connectionpool] DEBUG: Starting new HTTP connection (1): api.meituan.com:80\n",
      "2019-07-27 06:04:55 [urllib3.connectionpool] DEBUG: http://api.meituan.com:80 \"GET /group/v4/deal/select/city/94/cate/1?sort=solds&hasGroup=true&mpt_cate1=1&offset=575&limit=25 HTTP/1.1\" 403 166\n",
      "2019-07-27 06:05:05 [urllib3.connectionpool] DEBUG: Starting new HTTP connection (1): api.meituan.com:80\n",
      "2019-07-27 06:05:05 [urllib3.connectionpool] DEBUG: http://api.meituan.com:80 \"GET /group/v4/deal/select/city/94/cate/1?sort=solds&hasGroup=true&mpt_cate1=1&offset=575&limit=25 HTTP/1.1\" 200 None\n"
     ]
    },
    {
     "name": "stdout",
     "output_type": "stream",
     "text": [
      "已成功请求600个商家信息\n",
      "已成功获取600个商家信息\n"
     ]
    },
    {
     "name": "stderr",
     "output_type": "stream",
     "text": [
      "2019-07-27 06:05:09 [urllib3.connectionpool] DEBUG: Starting new HTTP connection (1): api.meituan.com:80\n",
      "2019-07-27 06:05:10 [urllib3.connectionpool] DEBUG: http://api.meituan.com:80 \"GET /group/v4/deal/select/city/94/cate/1?sort=solds&hasGroup=true&mpt_cate1=1&offset=600&limit=25 HTTP/1.1\" 403 166\n",
      "2019-07-27 06:05:20 [urllib3.connectionpool] DEBUG: Starting new HTTP connection (1): api.meituan.com:80\n",
      "2019-07-27 06:05:20 [urllib3.connectionpool] DEBUG: http://api.meituan.com:80 \"GET /group/v4/deal/select/city/94/cate/1?sort=solds&hasGroup=true&mpt_cate1=1&offset=600&limit=25 HTTP/1.1\" 200 None\n"
     ]
    },
    {
     "name": "stdout",
     "output_type": "stream",
     "text": [
      "已成功请求625个商家信息\n",
      "已成功获取625个商家信息\n"
     ]
    },
    {
     "name": "stderr",
     "output_type": "stream",
     "text": [
      "2019-07-27 06:05:22 [urllib3.connectionpool] DEBUG: Starting new HTTP connection (1): api.meituan.com:80\n",
      "2019-07-27 06:05:23 [urllib3.connectionpool] DEBUG: http://api.meituan.com:80 \"GET /group/v4/deal/select/city/94/cate/1?sort=solds&hasGroup=true&mpt_cate1=1&offset=625&limit=25 HTTP/1.1\" 200 None\n"
     ]
    },
    {
     "name": "stdout",
     "output_type": "stream",
     "text": [
      "已成功请求650个商家信息\n",
      "已成功获取650个商家信息\n"
     ]
    },
    {
     "name": "stderr",
     "output_type": "stream",
     "text": [
      "2019-07-27 06:05:28 [urllib3.connectionpool] DEBUG: Starting new HTTP connection (1): api.meituan.com:80\n",
      "2019-07-27 06:05:28 [urllib3.connectionpool] DEBUG: http://api.meituan.com:80 \"GET /group/v4/deal/select/city/94/cate/1?sort=solds&hasGroup=true&mpt_cate1=1&offset=650&limit=25 HTTP/1.1\" 200 None\n"
     ]
    },
    {
     "name": "stdout",
     "output_type": "stream",
     "text": [
      "已成功请求675个商家信息\n",
      "已成功获取675个商家信息\n"
     ]
    },
    {
     "name": "stderr",
     "output_type": "stream",
     "text": [
      "2019-07-27 06:05:30 [urllib3.connectionpool] DEBUG: Starting new HTTP connection (1): api.meituan.com:80\n",
      "2019-07-27 06:05:31 [urllib3.connectionpool] DEBUG: http://api.meituan.com:80 \"GET /group/v4/deal/select/city/94/cate/1?sort=solds&hasGroup=true&mpt_cate1=1&offset=675&limit=25 HTTP/1.1\" 200 None\n"
     ]
    },
    {
     "name": "stdout",
     "output_type": "stream",
     "text": [
      "已成功请求700个商家信息\n",
      "已成功获取700个商家信息\n"
     ]
    },
    {
     "name": "stderr",
     "output_type": "stream",
     "text": [
      "2019-07-27 06:05:33 [urllib3.connectionpool] DEBUG: Starting new HTTP connection (1): api.meituan.com:80\n",
      "2019-07-27 06:05:33 [urllib3.connectionpool] DEBUG: http://api.meituan.com:80 \"GET /group/v4/deal/select/city/94/cate/1?sort=solds&hasGroup=true&mpt_cate1=1&offset=700&limit=25 HTTP/1.1\" 403 166\n",
      "2019-07-27 06:05:43 [urllib3.connectionpool] DEBUG: Starting new HTTP connection (1): api.meituan.com:80\n",
      "2019-07-27 06:05:44 [urllib3.connectionpool] DEBUG: http://api.meituan.com:80 \"GET /group/v4/deal/select/city/94/cate/1?sort=solds&hasGroup=true&mpt_cate1=1&offset=700&limit=25 HTTP/1.1\" 503 1320\n",
      "2019-07-27 06:05:54 [urllib3.connectionpool] DEBUG: Starting new HTTP connection (1): api.meituan.com:80\n",
      "2019-07-27 06:05:56 [urllib3.connectionpool] DEBUG: http://api.meituan.com:80 \"GET /group/v4/deal/select/city/94/cate/1?sort=solds&hasGroup=true&mpt_cate1=1&offset=700&limit=25 HTTP/1.1\" 200 None\n"
     ]
    },
    {
     "name": "stdout",
     "output_type": "stream",
     "text": [
      "已成功请求725个商家信息\n",
      "已成功获取725个商家信息\n"
     ]
    },
    {
     "name": "stderr",
     "output_type": "stream",
     "text": [
      "2019-07-27 06:06:01 [urllib3.connectionpool] DEBUG: Starting new HTTP connection (1): api.meituan.com:80\n",
      "2019-07-27 06:06:02 [urllib3.connectionpool] DEBUG: http://api.meituan.com:80 \"GET /group/v4/deal/select/city/94/cate/1?sort=solds&hasGroup=true&mpt_cate1=1&offset=725&limit=25 HTTP/1.1\" 200 None\n"
     ]
    },
    {
     "name": "stdout",
     "output_type": "stream",
     "text": [
      "已成功请求750个商家信息\n",
      "已成功获取750个商家信息\n"
     ]
    },
    {
     "name": "stderr",
     "output_type": "stream",
     "text": [
      "2019-07-27 06:06:05 [urllib3.connectionpool] DEBUG: Starting new HTTP connection (1): api.meituan.com:80\n",
      "2019-07-27 06:06:06 [urllib3.connectionpool] DEBUG: http://api.meituan.com:80 \"GET /group/v4/deal/select/city/94/cate/1?sort=solds&hasGroup=true&mpt_cate1=1&offset=750&limit=25 HTTP/1.1\" 200 None\n"
     ]
    },
    {
     "name": "stdout",
     "output_type": "stream",
     "text": [
      "已成功请求775个商家信息\n",
      "已成功获取775个商家信息\n"
     ]
    },
    {
     "name": "stderr",
     "output_type": "stream",
     "text": [
      "2019-07-27 06:06:08 [urllib3.connectionpool] DEBUG: Starting new HTTP connection (1): api.meituan.com:80\n",
      "2019-07-27 06:06:08 [urllib3.connectionpool] DEBUG: http://api.meituan.com:80 \"GET /group/v4/deal/select/city/94/cate/1?sort=solds&hasGroup=true&mpt_cate1=1&offset=775&limit=25 HTTP/1.1\" 403 166\n",
      "2019-07-27 06:06:18 [urllib3.connectionpool] DEBUG: Starting new HTTP connection (1): api.meituan.com:80\n",
      "2019-07-27 06:06:19 [urllib3.connectionpool] DEBUG: http://api.meituan.com:80 \"GET /group/v4/deal/select/city/94/cate/1?sort=solds&hasGroup=true&mpt_cate1=1&offset=775&limit=25 HTTP/1.1\" 200 None\n"
     ]
    },
    {
     "name": "stdout",
     "output_type": "stream",
     "text": [
      "已成功请求800个商家信息\n",
      "已成功获取800个商家信息\n"
     ]
    },
    {
     "name": "stderr",
     "output_type": "stream",
     "text": [
      "2019-07-27 06:06:21 [urllib3.connectionpool] DEBUG: Starting new HTTP connection (1): api.meituan.com:80\n",
      "2019-07-27 06:06:21 [urllib3.connectionpool] DEBUG: http://api.meituan.com:80 \"GET /group/v4/deal/select/city/94/cate/1?sort=solds&hasGroup=true&mpt_cate1=1&offset=800&limit=25 HTTP/1.1\" 200 None\n"
     ]
    },
    {
     "name": "stdout",
     "output_type": "stream",
     "text": [
      "已成功请求825个商家信息\n",
      "已成功获取825个商家信息\n"
     ]
    },
    {
     "name": "stderr",
     "output_type": "stream",
     "text": [
      "2019-07-27 06:06:26 [urllib3.connectionpool] DEBUG: Starting new HTTP connection (1): api.meituan.com:80\n",
      "2019-07-27 06:06:27 [urllib3.connectionpool] DEBUG: http://api.meituan.com:80 \"GET /group/v4/deal/select/city/94/cate/1?sort=solds&hasGroup=true&mpt_cate1=1&offset=825&limit=25 HTTP/1.1\" 200 None\n"
     ]
    },
    {
     "name": "stdout",
     "output_type": "stream",
     "text": [
      "已成功请求850个商家信息\n",
      "已成功获取850个商家信息\n"
     ]
    },
    {
     "name": "stderr",
     "output_type": "stream",
     "text": [
      "2019-07-27 06:06:32 [urllib3.connectionpool] DEBUG: Starting new HTTP connection (1): api.meituan.com:80\n",
      "2019-07-27 06:06:32 [urllib3.connectionpool] DEBUG: http://api.meituan.com:80 \"GET /group/v4/deal/select/city/94/cate/1?sort=solds&hasGroup=true&mpt_cate1=1&offset=850&limit=25 HTTP/1.1\" 200 None\n"
     ]
    },
    {
     "name": "stdout",
     "output_type": "stream",
     "text": [
      "已成功请求875个商家信息\n",
      "已成功获取875个商家信息\n"
     ]
    },
    {
     "name": "stderr",
     "output_type": "stream",
     "text": [
      "2019-07-27 06:06:37 [urllib3.connectionpool] DEBUG: Starting new HTTP connection (1): api.meituan.com:80\n",
      "2019-07-27 06:06:38 [urllib3.connectionpool] DEBUG: http://api.meituan.com:80 \"GET /group/v4/deal/select/city/94/cate/1?sort=solds&hasGroup=true&mpt_cate1=1&offset=875&limit=25 HTTP/1.1\" 503 1320\n",
      "2019-07-27 06:06:48 [urllib3.connectionpool] DEBUG: Starting new HTTP connection (1): api.meituan.com:80\n",
      "2019-07-27 06:06:48 [urllib3.connectionpool] DEBUG: http://api.meituan.com:80 \"GET /group/v4/deal/select/city/94/cate/1?sort=solds&hasGroup=true&mpt_cate1=1&offset=875&limit=25 HTTP/1.1\" 200 None\n"
     ]
    },
    {
     "name": "stdout",
     "output_type": "stream",
     "text": [
      "已成功请求900个商家信息\n",
      "已成功获取900个商家信息\n"
     ]
    },
    {
     "name": "stderr",
     "output_type": "stream",
     "text": [
      "2019-07-27 06:06:52 [urllib3.connectionpool] DEBUG: Starting new HTTP connection (1): api.meituan.com:80\n",
      "2019-07-27 06:06:52 [urllib3.connectionpool] DEBUG: http://api.meituan.com:80 \"GET /group/v4/deal/select/city/94/cate/1?sort=solds&hasGroup=true&mpt_cate1=1&offset=900&limit=25 HTTP/1.1\" 403 166\n",
      "2019-07-27 06:07:03 [urllib3.connectionpool] DEBUG: Starting new HTTP connection (1): api.meituan.com:80\n",
      "2019-07-27 06:07:03 [urllib3.connectionpool] DEBUG: http://api.meituan.com:80 \"GET /group/v4/deal/select/city/94/cate/1?sort=solds&hasGroup=true&mpt_cate1=1&offset=900&limit=25 HTTP/1.1\" 200 None\n"
     ]
    },
    {
     "name": "stdout",
     "output_type": "stream",
     "text": [
      "已成功请求925个商家信息\n",
      "已成功获取925个商家信息\n"
     ]
    },
    {
     "name": "stderr",
     "output_type": "stream",
     "text": [
      "2019-07-27 06:07:06 [urllib3.connectionpool] DEBUG: Starting new HTTP connection (1): api.meituan.com:80\n",
      "2019-07-27 06:07:07 [urllib3.connectionpool] DEBUG: http://api.meituan.com:80 \"GET /group/v4/deal/select/city/94/cate/1?sort=solds&hasGroup=true&mpt_cate1=1&offset=925&limit=25 HTTP/1.1\" 503 1320\n",
      "2019-07-27 06:07:17 [urllib3.connectionpool] DEBUG: Starting new HTTP connection (1): api.meituan.com:80\n",
      "2019-07-27 06:07:17 [urllib3.connectionpool] DEBUG: http://api.meituan.com:80 \"GET /group/v4/deal/select/city/94/cate/1?sort=solds&hasGroup=true&mpt_cate1=1&offset=925&limit=25 HTTP/1.1\" 503 1320\n",
      "2019-07-27 06:07:27 [urllib3.connectionpool] DEBUG: Starting new HTTP connection (1): api.meituan.com:80\n",
      "2019-07-27 06:07:28 [urllib3.connectionpool] DEBUG: http://api.meituan.com:80 \"GET /group/v4/deal/select/city/94/cate/1?sort=solds&hasGroup=true&mpt_cate1=1&offset=925&limit=25 HTTP/1.1\" 200 None\n"
     ]
    },
    {
     "name": "stdout",
     "output_type": "stream",
     "text": [
      "已成功请求950个商家信息\n",
      "已成功获取950个商家信息\n"
     ]
    },
    {
     "name": "stderr",
     "output_type": "stream",
     "text": [
      "2019-07-27 06:07:33 [urllib3.connectionpool] DEBUG: Starting new HTTP connection (1): api.meituan.com:80\n",
      "2019-07-27 06:07:33 [urllib3.connectionpool] DEBUG: http://api.meituan.com:80 \"GET /group/v4/deal/select/city/94/cate/1?sort=solds&hasGroup=true&mpt_cate1=1&offset=950&limit=25 HTTP/1.1\" 200 None\n"
     ]
    },
    {
     "name": "stdout",
     "output_type": "stream",
     "text": [
      "已成功请求975个商家信息\n",
      "已成功获取975个商家信息\n"
     ]
    },
    {
     "name": "stderr",
     "output_type": "stream",
     "text": [
      "2019-07-27 06:07:36 [urllib3.connectionpool] DEBUG: Starting new HTTP connection (1): api.meituan.com:80\n",
      "2019-07-27 06:07:37 [urllib3.connectionpool] DEBUG: http://api.meituan.com:80 \"GET /group/v4/deal/select/city/94/cate/1?sort=solds&hasGroup=true&mpt_cate1=1&offset=975&limit=25 HTTP/1.1\" 200 None\n"
     ]
    },
    {
     "name": "stdout",
     "output_type": "stream",
     "text": [
      "已成功请求1000个商家信息\n",
      "已成功获取1000个商家信息\n"
     ]
    },
    {
     "name": "stderr",
     "output_type": "stream",
     "text": [
      "2019-07-27 06:07:42 [urllib3.connectionpool] DEBUG: Starting new HTTP connection (1): api.meituan.com:80\n",
      "2019-07-27 06:07:42 [urllib3.connectionpool] DEBUG: http://api.meituan.com:80 \"GET /group/v4/deal/select/city/94/cate/1?sort=solds&hasGroup=true&mpt_cate1=1&offset=1000&limit=25 HTTP/1.1\" 403 166\n",
      "2019-07-27 06:07:52 [urllib3.connectionpool] DEBUG: Starting new HTTP connection (1): api.meituan.com:80\n",
      "2019-07-27 06:07:52 [urllib3.connectionpool] DEBUG: http://api.meituan.com:80 \"GET /group/v4/deal/select/city/94/cate/1?sort=solds&hasGroup=true&mpt_cate1=1&offset=1000&limit=25 HTTP/1.1\" 403 166\n",
      "2019-07-27 06:08:02 [urllib3.connectionpool] DEBUG: Starting new HTTP connection (1): api.meituan.com:80\n",
      "2019-07-27 06:08:03 [urllib3.connectionpool] DEBUG: http://api.meituan.com:80 \"GET /group/v4/deal/select/city/94/cate/1?sort=solds&hasGroup=true&mpt_cate1=1&offset=1000&limit=25 HTTP/1.1\" 200 None\n",
      "2019-07-27 06:08:13 [urllib3.connectionpool] DEBUG: Starting new HTTP connection (1): api.meituan.com:80\n",
      "2019-07-27 06:08:13 [urllib3.connectionpool] DEBUG: http://api.meituan.com:80 \"GET /group/v4/deal/select/city/94/cate/1?sort=solds&hasGroup=true&mpt_cate1=1&offset=1000&limit=25 HTTP/1.1\" 503 1320\n",
      "2019-07-27 06:08:23 [urllib3.connectionpool] DEBUG: Starting new HTTP connection (1): api.meituan.com:80\n",
      "2019-07-27 06:08:24 [urllib3.connectionpool] DEBUG: http://api.meituan.com:80 \"GET /group/v4/deal/select/city/94/cate/1?sort=solds&hasGroup=true&mpt_cate1=1&offset=1000&limit=25 HTTP/1.1\" 200 None\n",
      "2019-07-27 06:08:34 [urllib3.connectionpool] DEBUG: Starting new HTTP connection (1): api.meituan.com:80\n",
      "2019-07-27 06:08:34 [urllib3.connectionpool] DEBUG: http://api.meituan.com:80 \"GET /group/v4/deal/select/city/94/cate/1?sort=solds&hasGroup=true&mpt_cate1=1&offset=1000&limit=25 HTTP/1.1\" 200 None\n",
      "2019-07-27 06:08:44 [urllib3.connectionpool] DEBUG: Starting new HTTP connection (1): api.meituan.com:80\n",
      "2019-07-27 06:08:45 [urllib3.connectionpool] DEBUG: http://api.meituan.com:80 \"GET /group/v4/deal/select/city/94/cate/1?sort=solds&hasGroup=true&mpt_cate1=1&offset=1000&limit=25 HTTP/1.1\" 200 None\n",
      "2019-07-27 06:08:55 [urllib3.connectionpool] DEBUG: Starting new HTTP connection (1): api.meituan.com:80\n",
      "2019-07-27 06:08:56 [urllib3.connectionpool] DEBUG: http://api.meituan.com:80 \"GET /group/v4/deal/select/city/94/cate/1?sort=solds&hasGroup=true&mpt_cate1=1&offset=1000&limit=25 HTTP/1.1\" 403 166\n",
      "2019-07-27 06:09:07 [urllib3.connectionpool] DEBUG: Starting new HTTP connection (1): api.meituan.com:80\n",
      "2019-07-27 06:09:07 [urllib3.connectionpool] DEBUG: http://api.meituan.com:80 \"GET /group/v4/deal/select/city/94/cate/1?sort=solds&hasGroup=true&mpt_cate1=1&offset=1000&limit=25 HTTP/1.1\" 200 None\n",
      "2019-07-27 06:09:17 [urllib3.connectionpool] DEBUG: Starting new HTTP connection (1): api.meituan.com:80\n",
      "2019-07-27 06:09:17 [urllib3.connectionpool] DEBUG: http://api.meituan.com:80 \"GET /group/v4/deal/select/city/94/cate/1?sort=solds&hasGroup=true&mpt_cate1=1&offset=1000&limit=25 HTTP/1.1\" 200 None\n"
     ]
    }
   ],
   "source": [
    "from spider_develop import MeituanSpider\n",
    "\n",
    "# save_mode ：txt存储为txt文件，csv存储为csv文件，db存储在mysql数据库中，无输入默认为txt\n",
    "# spider = MeituanSpider(save_mode='txt')\n",
    "# spider = MeituanSpider(save_mode='csv')\n",
    "spider = MeituanSpider()\n",
    "\n",
    "spider.run()"
   ]
  },
  {
   "cell_type": "code",
   "execution_count": null,
   "metadata": {},
   "outputs": [],
   "source": []
  },
  {
   "cell_type": "code",
   "execution_count": null,
   "metadata": {},
   "outputs": [],
   "source": []
  },
  {
   "cell_type": "code",
   "execution_count": null,
   "metadata": {},
   "outputs": [],
   "source": []
  },
  {
   "cell_type": "code",
   "execution_count": null,
   "metadata": {},
   "outputs": [],
   "source": []
  },
  {
   "cell_type": "code",
   "execution_count": null,
   "metadata": {},
   "outputs": [],
   "source": []
  },
  {
   "cell_type": "code",
   "execution_count": null,
   "metadata": {},
   "outputs": [],
   "source": []
  },
  {
   "cell_type": "markdown",
   "metadata": {},
   "source": [
    "### Shanghai Area\n",
    "\n",
    "- 爬取上海地区张爷爷空心面的美团信息\n",
    "- 上海地区有五个连锁店铺"
   ]
  },
  {
   "cell_type": "code",
   "execution_count": null,
   "metadata": {},
   "outputs": [],
   "source": []
  },
  {
   "cell_type": "code",
   "execution_count": null,
   "metadata": {},
   "outputs": [],
   "source": []
  },
  {
   "cell_type": "code",
   "execution_count": null,
   "metadata": {},
   "outputs": [],
   "source": []
  },
  {
   "cell_type": "markdown",
   "metadata": {},
   "source": [
    "#### 店铺1: 张爷爷空心面（世纪汇店）\n",
    "url: https://www.meituan.com/meishi/179108554/"
   ]
  },
  {
   "cell_type": "code",
   "execution_count": 22,
   "metadata": {},
   "outputs": [],
   "source": [
    "class MeituanspiderSpider(scrapy.Spider):\n",
    "    name = 'Meituanspider'\n",
    "    start_urls = ['https://www.meituan.com/meishi/179108554/']"
   ]
  },
  {
   "cell_type": "code",
   "execution_count": 23,
   "metadata": {},
   "outputs": [
    {
     "name": "stderr",
     "output_type": "stream",
     "text": [
      "2019-07-27 05:44:06 [scrapy.utils.log] INFO: Scrapy 1.7.2 started (bot: scrapybot)\n",
      "2019-07-27 05:44:06 [scrapy.utils.log] INFO: Versions: lxml 4.2.1.0, libxml2 2.9.8, cssselect 1.0.3, parsel 1.5.1, w3lib 1.20.0, Twisted 19.2.1, Python 3.6.5 |Anaconda, Inc.| (default, Apr 29 2018, 16:14:56) - [GCC 7.2.0], pyOpenSSL 18.0.0 (OpenSSL 1.0.2r  26 Feb 2019), cryptography 2.3.1, Platform Linux-4.14.128-87.105.amzn1.x86_64-x86_64-with-glibc2.9\n"
     ]
    },
    {
     "ename": "KeyError",
     "evalue": "'Spider not found: Meituanspider'",
     "output_type": "error",
     "traceback": [
      "\u001b[0;31m---------------------------------------------------------------------------\u001b[0m",
      "\u001b[0;31mKeyError\u001b[0m                                  Traceback (most recent call last)",
      "\u001b[0;32m~/anaconda3/envs/python3/lib/python3.6/site-packages/scrapy/spiderloader.py\u001b[0m in \u001b[0;36mload\u001b[0;34m(self, spider_name)\u001b[0m\n\u001b[1;32m     68\u001b[0m         \u001b[0;32mtry\u001b[0m\u001b[0;34m:\u001b[0m\u001b[0;34m\u001b[0m\u001b[0m\n\u001b[0;32m---> 69\u001b[0;31m             \u001b[0;32mreturn\u001b[0m \u001b[0mself\u001b[0m\u001b[0;34m.\u001b[0m\u001b[0m_spiders\u001b[0m\u001b[0;34m[\u001b[0m\u001b[0mspider_name\u001b[0m\u001b[0;34m]\u001b[0m\u001b[0;34m\u001b[0m\u001b[0m\n\u001b[0m\u001b[1;32m     70\u001b[0m         \u001b[0;32mexcept\u001b[0m \u001b[0mKeyError\u001b[0m\u001b[0;34m:\u001b[0m\u001b[0;34m\u001b[0m\u001b[0m\n",
      "\u001b[0;31mKeyError\u001b[0m: 'Meituanspider'",
      "\nDuring handling of the above exception, another exception occurred:\n",
      "\u001b[0;31mKeyError\u001b[0m                                  Traceback (most recent call last)",
      "\u001b[0;32m<ipython-input-23-1fed1407787b>\u001b[0m in \u001b[0;36m<module>\u001b[0;34m()\u001b[0m\n\u001b[1;32m      2\u001b[0m \u001b[0;32mfrom\u001b[0m \u001b[0mscrapy\u001b[0m\u001b[0;34m.\u001b[0m\u001b[0mutils\u001b[0m\u001b[0;34m.\u001b[0m\u001b[0mproject\u001b[0m \u001b[0;32mimport\u001b[0m \u001b[0mget_project_settings\u001b[0m\u001b[0;34m\u001b[0m\u001b[0m\n\u001b[1;32m      3\u001b[0m \u001b[0mprocess\u001b[0m \u001b[0;34m=\u001b[0m \u001b[0mCrawlerProcess\u001b[0m\u001b[0;34m(\u001b[0m\u001b[0mget_project_settings\u001b[0m\u001b[0;34m(\u001b[0m\u001b[0;34m)\u001b[0m\u001b[0;34m)\u001b[0m\u001b[0;34m\u001b[0m\u001b[0m\n\u001b[0;32m----> 4\u001b[0;31m \u001b[0mprocess\u001b[0m\u001b[0;34m.\u001b[0m\u001b[0mcrawl\u001b[0m\u001b[0;34m(\u001b[0m\u001b[0;34m'Meituanspider'\u001b[0m\u001b[0;34m)\u001b[0m\u001b[0;34m\u001b[0m\u001b[0m\n\u001b[0m\u001b[1;32m      5\u001b[0m \u001b[0mprocess\u001b[0m\u001b[0;34m.\u001b[0m\u001b[0mstart\u001b[0m\u001b[0;34m(\u001b[0m\u001b[0;34m)\u001b[0m \u001b[0;31m# the script will block here until the crawling is finished\u001b[0m\u001b[0;34m\u001b[0m\u001b[0m\n",
      "\u001b[0;32m~/anaconda3/envs/python3/lib/python3.6/site-packages/scrapy/crawler.py\u001b[0m in \u001b[0;36mcrawl\u001b[0;34m(self, crawler_or_spidercls, *args, **kwargs)\u001b[0m\n\u001b[1;32m    181\u001b[0m                 \u001b[0;34m'The crawler_or_spidercls argument cannot be a spider object, '\u001b[0m\u001b[0;34m\u001b[0m\u001b[0m\n\u001b[1;32m    182\u001b[0m                 'it must be a spider class (or a Crawler object)')\n\u001b[0;32m--> 183\u001b[0;31m         \u001b[0mcrawler\u001b[0m \u001b[0;34m=\u001b[0m \u001b[0mself\u001b[0m\u001b[0;34m.\u001b[0m\u001b[0mcreate_crawler\u001b[0m\u001b[0;34m(\u001b[0m\u001b[0mcrawler_or_spidercls\u001b[0m\u001b[0;34m)\u001b[0m\u001b[0;34m\u001b[0m\u001b[0m\n\u001b[0m\u001b[1;32m    184\u001b[0m         \u001b[0;32mreturn\u001b[0m \u001b[0mself\u001b[0m\u001b[0;34m.\u001b[0m\u001b[0m_crawl\u001b[0m\u001b[0;34m(\u001b[0m\u001b[0mcrawler\u001b[0m\u001b[0;34m,\u001b[0m \u001b[0;34m*\u001b[0m\u001b[0margs\u001b[0m\u001b[0;34m,\u001b[0m \u001b[0;34m**\u001b[0m\u001b[0mkwargs\u001b[0m\u001b[0;34m)\u001b[0m\u001b[0;34m\u001b[0m\u001b[0m\n\u001b[1;32m    185\u001b[0m \u001b[0;34m\u001b[0m\u001b[0m\n",
      "\u001b[0;32m~/anaconda3/envs/python3/lib/python3.6/site-packages/scrapy/crawler.py\u001b[0m in \u001b[0;36mcreate_crawler\u001b[0;34m(self, crawler_or_spidercls)\u001b[0m\n\u001b[1;32m    214\u001b[0m         \u001b[0;32mif\u001b[0m \u001b[0misinstance\u001b[0m\u001b[0;34m(\u001b[0m\u001b[0mcrawler_or_spidercls\u001b[0m\u001b[0;34m,\u001b[0m \u001b[0mCrawler\u001b[0m\u001b[0;34m)\u001b[0m\u001b[0;34m:\u001b[0m\u001b[0;34m\u001b[0m\u001b[0m\n\u001b[1;32m    215\u001b[0m             \u001b[0;32mreturn\u001b[0m \u001b[0mcrawler_or_spidercls\u001b[0m\u001b[0;34m\u001b[0m\u001b[0m\n\u001b[0;32m--> 216\u001b[0;31m         \u001b[0;32mreturn\u001b[0m \u001b[0mself\u001b[0m\u001b[0;34m.\u001b[0m\u001b[0m_create_crawler\u001b[0m\u001b[0;34m(\u001b[0m\u001b[0mcrawler_or_spidercls\u001b[0m\u001b[0;34m)\u001b[0m\u001b[0;34m\u001b[0m\u001b[0m\n\u001b[0m\u001b[1;32m    217\u001b[0m \u001b[0;34m\u001b[0m\u001b[0m\n\u001b[1;32m    218\u001b[0m     \u001b[0;32mdef\u001b[0m \u001b[0m_create_crawler\u001b[0m\u001b[0;34m(\u001b[0m\u001b[0mself\u001b[0m\u001b[0;34m,\u001b[0m \u001b[0mspidercls\u001b[0m\u001b[0;34m)\u001b[0m\u001b[0;34m:\u001b[0m\u001b[0;34m\u001b[0m\u001b[0m\n",
      "\u001b[0;32m~/anaconda3/envs/python3/lib/python3.6/site-packages/scrapy/crawler.py\u001b[0m in \u001b[0;36m_create_crawler\u001b[0;34m(self, spidercls)\u001b[0m\n\u001b[1;32m    218\u001b[0m     \u001b[0;32mdef\u001b[0m \u001b[0m_create_crawler\u001b[0m\u001b[0;34m(\u001b[0m\u001b[0mself\u001b[0m\u001b[0;34m,\u001b[0m \u001b[0mspidercls\u001b[0m\u001b[0;34m)\u001b[0m\u001b[0;34m:\u001b[0m\u001b[0;34m\u001b[0m\u001b[0m\n\u001b[1;32m    219\u001b[0m         \u001b[0;32mif\u001b[0m \u001b[0misinstance\u001b[0m\u001b[0;34m(\u001b[0m\u001b[0mspidercls\u001b[0m\u001b[0;34m,\u001b[0m \u001b[0msix\u001b[0m\u001b[0;34m.\u001b[0m\u001b[0mstring_types\u001b[0m\u001b[0;34m)\u001b[0m\u001b[0;34m:\u001b[0m\u001b[0;34m\u001b[0m\u001b[0m\n\u001b[0;32m--> 220\u001b[0;31m             \u001b[0mspidercls\u001b[0m \u001b[0;34m=\u001b[0m \u001b[0mself\u001b[0m\u001b[0;34m.\u001b[0m\u001b[0mspider_loader\u001b[0m\u001b[0;34m.\u001b[0m\u001b[0mload\u001b[0m\u001b[0;34m(\u001b[0m\u001b[0mspidercls\u001b[0m\u001b[0;34m)\u001b[0m\u001b[0;34m\u001b[0m\u001b[0m\n\u001b[0m\u001b[1;32m    221\u001b[0m         \u001b[0;32mreturn\u001b[0m \u001b[0mCrawler\u001b[0m\u001b[0;34m(\u001b[0m\u001b[0mspidercls\u001b[0m\u001b[0;34m,\u001b[0m \u001b[0mself\u001b[0m\u001b[0;34m.\u001b[0m\u001b[0msettings\u001b[0m\u001b[0;34m)\u001b[0m\u001b[0;34m\u001b[0m\u001b[0m\n\u001b[1;32m    222\u001b[0m \u001b[0;34m\u001b[0m\u001b[0m\n",
      "\u001b[0;32m~/anaconda3/envs/python3/lib/python3.6/site-packages/scrapy/spiderloader.py\u001b[0m in \u001b[0;36mload\u001b[0;34m(self, spider_name)\u001b[0m\n\u001b[1;32m     69\u001b[0m             \u001b[0;32mreturn\u001b[0m \u001b[0mself\u001b[0m\u001b[0;34m.\u001b[0m\u001b[0m_spiders\u001b[0m\u001b[0;34m[\u001b[0m\u001b[0mspider_name\u001b[0m\u001b[0;34m]\u001b[0m\u001b[0;34m\u001b[0m\u001b[0m\n\u001b[1;32m     70\u001b[0m         \u001b[0;32mexcept\u001b[0m \u001b[0mKeyError\u001b[0m\u001b[0;34m:\u001b[0m\u001b[0;34m\u001b[0m\u001b[0m\n\u001b[0;32m---> 71\u001b[0;31m             \u001b[0;32mraise\u001b[0m \u001b[0mKeyError\u001b[0m\u001b[0;34m(\u001b[0m\u001b[0;34m\"Spider not found: {}\"\u001b[0m\u001b[0;34m.\u001b[0m\u001b[0mformat\u001b[0m\u001b[0;34m(\u001b[0m\u001b[0mspider_name\u001b[0m\u001b[0;34m)\u001b[0m\u001b[0;34m)\u001b[0m\u001b[0;34m\u001b[0m\u001b[0m\n\u001b[0m\u001b[1;32m     72\u001b[0m \u001b[0;34m\u001b[0m\u001b[0m\n\u001b[1;32m     73\u001b[0m     \u001b[0;32mdef\u001b[0m \u001b[0mfind_by_request\u001b[0m\u001b[0;34m(\u001b[0m\u001b[0mself\u001b[0m\u001b[0;34m,\u001b[0m \u001b[0mrequest\u001b[0m\u001b[0;34m)\u001b[0m\u001b[0;34m:\u001b[0m\u001b[0;34m\u001b[0m\u001b[0m\n",
      "\u001b[0;31mKeyError\u001b[0m: 'Spider not found: Meituanspider'"
     ]
    }
   ],
   "source": [
    "# using a processing pipeline of scrapy\n",
    "from scrapy.utils.project import get_project_settings\n",
    "process = CrawlerProcess(get_project_settings())\n",
    "process.crawl('Meituanspider')\n",
    "process.start() # the script will block here until the crawling is finished"
   ]
  },
  {
   "cell_type": "code",
   "execution_count": 26,
   "metadata": {},
   "outputs": [
    {
     "name": "stderr",
     "output_type": "stream",
     "text": [
      "2019-07-27 05:47:53 [urllib3.connectionpool] DEBUG: Starting new HTTPS connection (1): www.meituan.com:443\n",
      "2019-07-27 05:47:54 [urllib3.connectionpool] DEBUG: https://www.meituan.com:443 \"GET /meishi/api/poi/getMerchantComment?uuid=57461b13249c4026be0d.1564202509.1.0.0&platform=1&partner=126&originUrl=https%3A%2F%2Fwww.meituan.com%2Fmeishi%2F179108554%2F&riskLevel=1&optimusCode=10&id=179108554&userId=&offset=0&pageSize=10&sortType=1 HTTP/1.1\" 302 158\n",
      "2019-07-27 05:47:55 [urllib3.connectionpool] DEBUG: https://www.meituan.com:443 \"GET /error/403 HTTP/1.1\" 200 None\n"
     ]
    }
   ],
   "source": [
    "import requests\n",
    "from scrapy.http import TextResponse\n",
    "\n",
    "res = requests.get('https://www.meituan.com/meishi/api/poi/getMerchantComment?uuid=57461b13249c4026be0d.1564202509.1.0.0&platform=1&partner=126&originUrl=https%3A%2F%2Fwww.meituan.com%2Fmeishi%2F179108554%2F&riskLevel=1&optimusCode=10&id=179108554&userId=&offset=0&pageSize=10&sortType=1')\n",
    "response = TextResponse(res.url, body=res.text, encoding='utf-8')\n"
   ]
  },
  {
   "cell_type": "code",
   "execution_count": 31,
   "metadata": {},
   "outputs": [
    {
     "name": "stderr",
     "output_type": "stream",
     "text": [
      "2019-07-27 05:50:20 [urllib3.connectionpool] DEBUG: Starting new HTTPS connection (1): www.meituan.com:443\n",
      "2019-07-27 05:50:21 [urllib3.connectionpool] DEBUG: https://www.meituan.com:443 \"GET /meishi/api/poi/getMerchantComment?uuid=57461b13249c4026be0d.1564202509.1.0.0&platform=1&partner=126&originUrl=https%3A%2F%2Fwww.meituan.com%2Fmeishi%2F179108554%2F&riskLevel=1&optimusCode=10&id=179108554&userId=&offset=0&pageSize=10&sortType=1 HTTP/1.1\" 200 None\n"
     ]
    }
   ],
   "source": [
    "url = \"https://www.meituan.com/meishi/api/poi/getMerchantComment?uuid=57461b13249c4026be0d.1564202509.1.0.0&platform=1&partner=126&originUrl=https%3A%2F%2Fwww.meituan.com%2Fmeishi%2F179108554%2F&riskLevel=1&optimusCode=10&id=179108554&userId=&offset=0&pageSize=10&sortType=1\"\n",
    "r = requests.get(url, headers=headers)\n",
    "response = TextResponse(r.url, body=r.text, encoding='utf-8')"
   ]
  },
  {
   "cell_type": "code",
   "execution_count": 33,
   "metadata": {},
   "outputs": [
    {
     "name": "stdout",
     "output_type": "stream",
     "text": [
      "There are 0 perfumes from Dolce & Gabanna\n",
      "[]\n"
     ]
    }
   ],
   "source": [
    "# Navigate the perfume list\n",
    "c = response.xpath('//div[@id=\"col1\"]/div[@class=\"perfumeslist\"]/div/div/p/a//text()').extract()\n",
    "print(\"There are {} perfumes from Dolce & Gabanna\".format(len(c)))\n",
    "print(c)"
   ]
  },
  {
   "cell_type": "code",
   "execution_count": null,
   "metadata": {},
   "outputs": [],
   "source": []
  },
  {
   "cell_type": "code",
   "execution_count": null,
   "metadata": {},
   "outputs": [],
   "source": []
  },
  {
   "cell_type": "code",
   "execution_count": null,
   "metadata": {},
   "outputs": [],
   "source": []
  },
  {
   "cell_type": "code",
   "execution_count": null,
   "metadata": {},
   "outputs": [],
   "source": [
    "cursor = conn.cursor()\n",
    "    name = 'meituanSpider'\n",
    "    #allowed_domains = ['ihotel.meituan.com']\n",
    "    base_url = 'https://www.meituan.com/meishi/api/poi/getMerchantComment?uuid=57461b13249c4026be0d.1564202509.1.0.0&platform=1&partner=126&originUrl=https%3A%2F%2Fwww.meituan.com%2Fmeishi%2F179108554%2F&riskLevel=1&optimusCode=10&id=179108554&userId=&offset=0&pageSize=10&sortType=1'"
   ]
  },
  {
   "cell_type": "code",
   "execution_count": null,
   "metadata": {},
   "outputs": [],
   "source": []
  },
  {
   "cell_type": "code",
   "execution_count": null,
   "metadata": {},
   "outputs": [],
   "source": []
  },
  {
   "cell_type": "code",
   "execution_count": null,
   "metadata": {},
   "outputs": [],
   "source": []
  }
 ],
 "metadata": {
  "kernelspec": {
   "display_name": "conda_python3",
   "language": "python",
   "name": "conda_python3"
  },
  "language_info": {
   "codemirror_mode": {
    "name": "ipython",
    "version": 3
   },
   "file_extension": ".py",
   "mimetype": "text/x-python",
   "name": "python",
   "nbconvert_exporter": "python",
   "pygments_lexer": "ipython3",
   "version": "3.6.5"
  }
 },
 "nbformat": 4,
 "nbformat_minor": 2
}
